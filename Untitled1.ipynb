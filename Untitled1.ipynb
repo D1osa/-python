{
  "nbformat": 4,
  "nbformat_minor": 0,
  "metadata": {
    "colab": {
      "name": "Untitled1.ipynb",
      "provenance": [],
      "collapsed_sections": [],
      "authorship_tag": "ABX9TyML2qtyal4o7MpkVsbC8Hb8",
      "include_colab_link": true
    },
    "kernelspec": {
      "name": "python3",
      "display_name": "Python 3"
    },
    "language_info": {
      "name": "python"
    }
  },
  "cells": [
    {
      "cell_type": "markdown",
      "metadata": {
        "id": "view-in-github",
        "colab_type": "text"
      },
      "source": [
        "<a href=\"https://colab.research.google.com/github/D1osa/-python/blob/main/Untitled1.ipynb\" target=\"_parent\"><img src=\"https://colab.research.google.com/assets/colab-badge.svg\" alt=\"Open In Colab\"/></a>"
      ]
    },
    {
      "cell_type": "markdown",
      "source": [
        "Установка необходимых бустингов"
      ],
      "metadata": {
        "id": "y_KDeGRu0uAp"
      }
    },
    {
      "cell_type": "code",
      "source": [
        "!pip install xgboost\n",
        "!pip install lightgbm\n",
        "!pip install catboost"
      ],
      "metadata": {
        "colab": {
          "base_uri": "https://localhost:8080/"
        },
        "id": "vE2Xv_Sbq_EZ",
        "outputId": "ee4d51b4-67ff-4f52-f60b-25c5c01710e2"
      },
      "execution_count": 1,
      "outputs": [
        {
          "output_type": "stream",
          "name": "stdout",
          "text": [
            "Looking in indexes: https://pypi.org/simple, https://us-python.pkg.dev/colab-wheels/public/simple/\n",
            "Requirement already satisfied: xgboost in /usr/local/lib/python3.7/dist-packages (0.90)\n",
            "Requirement already satisfied: numpy in /usr/local/lib/python3.7/dist-packages (from xgboost) (1.21.6)\n",
            "Requirement already satisfied: scipy in /usr/local/lib/python3.7/dist-packages (from xgboost) (1.7.3)\n",
            "Looking in indexes: https://pypi.org/simple, https://us-python.pkg.dev/colab-wheels/public/simple/\n",
            "Requirement already satisfied: lightgbm in /usr/local/lib/python3.7/dist-packages (2.2.3)\n",
            "Requirement already satisfied: numpy in /usr/local/lib/python3.7/dist-packages (from lightgbm) (1.21.6)\n",
            "Requirement already satisfied: scipy in /usr/local/lib/python3.7/dist-packages (from lightgbm) (1.7.3)\n",
            "Requirement already satisfied: scikit-learn in /usr/local/lib/python3.7/dist-packages (from lightgbm) (1.0.2)\n",
            "Requirement already satisfied: joblib>=0.11 in /usr/local/lib/python3.7/dist-packages (from scikit-learn->lightgbm) (1.1.0)\n",
            "Requirement already satisfied: threadpoolctl>=2.0.0 in /usr/local/lib/python3.7/dist-packages (from scikit-learn->lightgbm) (3.1.0)\n",
            "Looking in indexes: https://pypi.org/simple, https://us-python.pkg.dev/colab-wheels/public/simple/\n",
            "Collecting catboost\n",
            "  Downloading catboost-1.0.6-cp37-none-manylinux1_x86_64.whl (76.6 MB)\n",
            "\u001b[K     |████████████████████████████████| 76.6 MB 1.1 MB/s \n",
            "\u001b[?25hRequirement already satisfied: pandas>=0.24.0 in /usr/local/lib/python3.7/dist-packages (from catboost) (1.3.5)\n",
            "Requirement already satisfied: plotly in /usr/local/lib/python3.7/dist-packages (from catboost) (5.5.0)\n",
            "Requirement already satisfied: numpy>=1.16.0 in /usr/local/lib/python3.7/dist-packages (from catboost) (1.21.6)\n",
            "Requirement already satisfied: matplotlib in /usr/local/lib/python3.7/dist-packages (from catboost) (3.2.2)\n",
            "Requirement already satisfied: six in /usr/local/lib/python3.7/dist-packages (from catboost) (1.15.0)\n",
            "Requirement already satisfied: graphviz in /usr/local/lib/python3.7/dist-packages (from catboost) (0.10.1)\n",
            "Requirement already satisfied: scipy in /usr/local/lib/python3.7/dist-packages (from catboost) (1.7.3)\n",
            "Requirement already satisfied: pytz>=2017.3 in /usr/local/lib/python3.7/dist-packages (from pandas>=0.24.0->catboost) (2022.2.1)\n",
            "Requirement already satisfied: python-dateutil>=2.7.3 in /usr/local/lib/python3.7/dist-packages (from pandas>=0.24.0->catboost) (2.8.2)\n",
            "Requirement already satisfied: kiwisolver>=1.0.1 in /usr/local/lib/python3.7/dist-packages (from matplotlib->catboost) (1.4.4)\n",
            "Requirement already satisfied: pyparsing!=2.0.4,!=2.1.2,!=2.1.6,>=2.0.1 in /usr/local/lib/python3.7/dist-packages (from matplotlib->catboost) (3.0.9)\n",
            "Requirement already satisfied: cycler>=0.10 in /usr/local/lib/python3.7/dist-packages (from matplotlib->catboost) (0.11.0)\n",
            "Requirement already satisfied: typing-extensions in /usr/local/lib/python3.7/dist-packages (from kiwisolver>=1.0.1->matplotlib->catboost) (4.1.1)\n",
            "Requirement already satisfied: tenacity>=6.2.0 in /usr/local/lib/python3.7/dist-packages (from plotly->catboost) (8.0.1)\n",
            "Installing collected packages: catboost\n",
            "Successfully installed catboost-1.0.6\n"
          ]
        }
      ]
    },
    {
      "cell_type": "markdown",
      "source": [
        "Импорт необходимых библиотек"
      ],
      "metadata": {
        "id": "4wA2Svmm1Ec0"
      }
    },
    {
      "cell_type": "code",
      "source": [
        "import pandas as pd\n",
        "import numpy as np\n",
        "\n",
        "import matplotlib\n",
        "import matplotlib.pyplot as plt\n",
        "import seaborn as sns"
      ],
      "metadata": {
        "id": "c2OLsF4_rQTe"
      },
      "execution_count": 37,
      "outputs": []
    },
    {
      "cell_type": "code",
      "source": [
        "import matplotlib\n",
        "import matplotlib.pyplot as plt\n",
        "import seaborn as sns\n",
        "import pickle\n",
        "import xgboost as xgb\n",
        "import catboost as catb\n",
        "import lightgbm as lgbm\n",
        "import scipy.stats as stats\n",
        "\n",
        "\n",
        "from sklearn.model_selection import train_test_split, ShuffleSplit, cross_val_score, learning_curve\n",
        "from sklearn.metrics import classification_report, f1_score, precision_score, recall_score\n",
        "from sklearn.model_selection import StratifiedKFold, GridSearchCV, RandomizedSearchCV\n",
        "from sklearn.ensemble import RandomForestClassifier\n",
        "\n",
        "from sklearn.linear_model import LogisticRegression, LogisticRegressionCV\n",
        "from sklearn.svm import SVC\n",
        "\n",
        "from sklearn.preprocessing import StandardScaler, MinMaxScaler\n",
        "from sklearn.model_selection import train_test_split, ShuffleSplit, cross_val_score, learning_curve\n",
        "from sklearn.model_selection import KFold, GridSearchCV, RandomizedSearchCV\n",
        "\n",
        "from sklearn.neighbors import KNeighborsClassifier\n",
        "\n",
        "from xgboost import XGBClassifier\n",
        "from catboost import CatBoostClassifier, CatBoostRegressor, Pool\n",
        "\n",
        "from pathlib import Path\n",
        "\n",
        "from scipy.stats import shapiro\n",
        "from scipy.stats import probplot\n",
        "from scipy.stats import mannwhitneyu\n",
        "from scipy.stats import chi2_contingency\n",
        "\n",
        "import statsmodels.api as sm\n",
        "from statsmodels.formula.api import ols\n",
        "\n",
        "import warnings\n",
        "warnings.simplefilter('ignore')\n",
        "warnings.filterwarnings('ignore')\n",
        "\n",
        "from hyperopt import hp, tpe\n",
        "from hyperopt.fmin import fmin\n",
        "\n",
        "%matplotlib inline"
      ],
      "metadata": {
        "id": "0Ro94s70rT3E"
      },
      "execution_count": 88,
      "outputs": []
    },
    {
      "cell_type": "markdown",
      "source": [
        "Загрузка данных"
      ],
      "metadata": {
        "id": "isTzrUwK1JfL"
      }
    },
    {
      "cell_type": "code",
      "source": [
        "TRAIN_DATASET_PATH = 'course_project_train.csv'\n",
        "TEST_DATASET_PATH = 'course_project_test.csv'\n",
        "\n",
        "df_train = pd.read_csv(TRAIN_DATASET_PATH)\n",
        "df_test = pd.read_csv(TEST_DATASET_PATH)"
      ],
      "metadata": {
        "id": "mF0nqQQfsnLT"
      },
      "execution_count": 89,
      "outputs": []
    },
    {
      "cell_type": "markdown",
      "source": [
        "Целевая переменная"
      ],
      "metadata": {
        "id": "80ERo2lh1QJO"
      }
    },
    {
      "cell_type": "code",
      "source": [
        "TARGET_NAME = 'Credit Default'\n",
        "BASE_FEATURE_NAMES = df_train.columns.drop(TARGET_NAME).tolist()\n",
        "#NEW_FEATURE_NAMES = ['']\n",
        "NUMB_FEATURE_NAMES = ['Annual Income','Tax Liens','Number of Open Accounts','Years of Credit History',\n",
        "                     'Maximum Open Credit','Number of Credit Problems','Months since last delinquent',\n",
        "                     'Bankruptcies','Current Loan Amount','Current Credit Balance','Monthly Debt','Credit Score']\n",
        "CAT_FEATURE_NAMES = ['Years in current job','Home Ownership','Purpose','Term']"
      ],
      "metadata": {
        "id": "i6_UEUJms_vF"
      },
      "execution_count": 90,
      "outputs": []
    },
    {
      "cell_type": "code",
      "source": [
        "y = df_train[[TARGET_NAME]]\n",
        "y.info()"
      ],
      "metadata": {
        "colab": {
          "base_uri": "https://localhost:8080/"
        },
        "id": "qFNcXawrtEFN",
        "outputId": "048a98c5-c4d5-40be-9ba9-c4d6d9c3b465"
      },
      "execution_count": 92,
      "outputs": [
        {
          "output_type": "stream",
          "name": "stdout",
          "text": [
            "<class 'pandas.core.frame.DataFrame'>\n",
            "RangeIndex: 7500 entries, 0 to 7499\n",
            "Data columns (total 1 columns):\n",
            " #   Column          Non-Null Count  Dtype\n",
            "---  ------          --------------  -----\n",
            " 0   Credit Default  7500 non-null   int64\n",
            "dtypes: int64(1)\n",
            "memory usage: 58.7 KB\n"
          ]
        }
      ]
    },
    {
      "cell_type": "markdown",
      "source": [
        "Распределение значений целевой переменной"
      ],
      "metadata": {
        "id": "OsGeEX3l1WnR"
      }
    },
    {
      "cell_type": "code",
      "source": [
        "plt.figure(figsize=(8, 5))\n",
        "\n",
        "sns.countplot(x=TARGET_NAME, data=df_train)\n",
        "\n",
        "plt.title('Target variable distribution')\n",
        "plt.show()"
      ],
      "metadata": {
        "colab": {
          "base_uri": "https://localhost:8080/",
          "height": 350
        },
        "id": "v-CC3wVwtG8i",
        "outputId": "2b6ddef9-1302-4cc4-9201-ba0b5e0ccd8c"
      },
      "execution_count": 93,
      "outputs": [
        {
          "output_type": "display_data",
          "data": {
            "text/plain": [
              "<Figure size 576x360 with 1 Axes>"
            ],
            "image/png": "[encoded data removed]"
          },
          "metadata": {
            "needs_background": "light"
          }
        }
      ]
    },
    {
      "cell_type": "markdown",
      "source": [
        "Обзор обучающего датасета\n",
        "\n",
        "Описание датасета\n",
        "\n",
        "Home Ownership - домовладение\n",
        "\n",
        "Annual Income - годовой доход\n",
        "\n",
        "Years in current job - количество лет на текущем месте работы\n",
        "\n",
        "Tax Liens - налоговые обременения\n",
        "\n",
        "Number of Open Accounts - количество открытых счетов\n",
        "\n",
        "Years of Credit History - количество лет кредитной истории\n",
        "\n",
        "Maximum Open Credit - наибольший открытый кредит\n",
        "\n",
        "Number of Credit Problems - количество проблем с кредитом\n",
        "\n",
        "Months since last delinquent - количество месяцев с последней просрочки платежа\n",
        "\n",
        "Bankruptcies - банкротства\n",
        "\n",
        "Purpose - цель кредита\n",
        "\n",
        "Term - срок кредита\n",
        "\n",
        "Current Loan Amount - текущая сумма кредита\n",
        "\n",
        "Current Credit Balance - текущий кредитный баланс\n",
        "\n",
        "Monthly Debt - ежемесячный долг\n",
        "\n",
        "Credit Default - факт невыполнения кредитных обязательств (0 - погашен вовремя, 1 - просрочка)"
      ],
      "metadata": {
        "id": "lXrb6rHl1dHZ"
      }
    },
    {
      "cell_type": "code",
      "source": [
        "df_train.head(10)"
      ],
      "metadata": {
        "colab": {
          "base_uri": "https://localhost:8080/",
          "height": 653
        },
        "id": "YFoIEllXtO5a",
        "outputId": "2796254c-7017-4fee-eca0-5ae9174adbcb"
      },
      "execution_count": 94,
      "outputs": [
        {
          "output_type": "execute_result",
          "data": {
            "text/plain": [
              "  Home Ownership  Annual Income Years in current job  Tax Liens  \\\n",
              "0       Own Home       482087.0                  NaN        0.0   \n",
              "1       Own Home      1025487.0            10+ years        0.0   \n",
              "2  Home Mortgage       751412.0              8 years        0.0   \n",
              "3       Own Home       805068.0              6 years        0.0   \n",
              "4           Rent       776264.0              8 years        0.0   \n",
              "5           Rent            NaN              7 years        0.0   \n",
              "6  Home Mortgage      1511108.0            10+ years        0.0   \n",
              "7           Rent      1040060.0            10+ years        0.0   \n",
              "8  Home Mortgage            NaN              5 years        0.0   \n",
              "9  Home Mortgage            NaN               1 year        0.0   \n",
              "\n",
              "   Number of Open Accounts  Years of Credit History  Maximum Open Credit  \\\n",
              "0                     11.0                     26.3             685960.0   \n",
              "1                     15.0                     15.3            1181730.0   \n",
              "2                     11.0                     35.0            1182434.0   \n",
              "3                      8.0                     22.5             147400.0   \n",
              "4                     13.0                     13.6             385836.0   \n",
              "5                     12.0                     14.6             366784.0   \n",
              "6                      9.0                     20.3             388124.0   \n",
              "7                     13.0                     12.0             330374.0   \n",
              "8                     17.0                     15.7                  0.0   \n",
              "9                     10.0                     24.6             511302.0   \n",
              "\n",
              "   Number of Credit Problems  Months since last delinquent  Bankruptcies  \\\n",
              "0                        1.0                           NaN           1.0   \n",
              "1                        0.0                           NaN           0.0   \n",
              "2                        0.0                           NaN           0.0   \n",
              "3                        1.0                           NaN           1.0   \n",
              "4                        1.0                           NaN           0.0   \n",
              "5                        0.0                           NaN           0.0   \n",
              "6                        0.0                          73.0           0.0   \n",
              "7                        0.0                          18.0           0.0   \n",
              "8                        1.0                           NaN           1.0   \n",
              "9                        0.0                           6.0           0.0   \n",
              "\n",
              "              Purpose        Term  Current Loan Amount  \\\n",
              "0  debt consolidation  Short Term           99999999.0   \n",
              "1  debt consolidation   Long Term             264968.0   \n",
              "2  debt consolidation  Short Term           99999999.0   \n",
              "3  debt consolidation  Short Term             121396.0   \n",
              "4  debt consolidation  Short Term             125840.0   \n",
              "5               other   Long Term             337304.0   \n",
              "6   home improvements  Short Term           99999999.0   \n",
              "7               other  Short Term             250888.0   \n",
              "8   home improvements  Short Term             129734.0   \n",
              "9  debt consolidation   Long Term             572880.0   \n",
              "\n",
              "   Current Credit Balance  Monthly Debt  Credit Score  Credit Default  \n",
              "0                 47386.0        7914.0         749.0               0  \n",
              "1                394972.0       18373.0         737.0               1  \n",
              "2                308389.0       13651.0         742.0               0  \n",
              "3                 95855.0       11338.0         694.0               0  \n",
              "4                 93309.0        7180.0         719.0               0  \n",
              "5                165680.0       18692.0           NaN               1  \n",
              "6                 51623.0        2317.0         745.0               0  \n",
              "7                 89015.0       19761.0         705.0               1  \n",
              "8                    19.0          17.0           NaN               0  \n",
              "9                205333.0       17613.0           NaN               1  "
            ],
            "text/html": [
              "\n",
              "  <div id=\"df-52cd4c2a-4a0f-4a60-b3ee-39801bfee641\">\n",
              "    <div class=\"colab-df-container\">\n",
              "      <div>\n",
              "<style scoped>\n",
              "    .dataframe tbody tr th:only-of-type {\n",
              "        vertical-align: middle;\n",
              "    }\n",
              "\n",
              "    .dataframe tbody tr th {\n",
              "        vertical-align: top;\n",
              "    }\n",
              "\n",
              "    .dataframe thead th {\n",
              "        text-align: right;\n",
              "    }\n",
              "</style>\n",
              "<table border=\"1\" class=\"dataframe\">\n",
              "  <thead>\n",
              "    <tr style=\"text-align: right;\">\n",
              "      <th></th>\n",
              "      <th>Home Ownership</th>\n",
              "      <th>Annual Income</th>\n",
              "      <th>Years in current job</th>\n",
              "      <th>Tax Liens</th>\n",
              "      <th>Number of Open Accounts</th>\n",
              "      <th>Years of Credit History</th>\n",
              "      <th>Maximum Open Credit</th>\n",
              "      <th>Number of Credit Problems</th>\n",
              "      <th>Months since last delinquent</th>\n",
              "      <th>Bankruptcies</th>\n",
              "      <th>Purpose</th>\n",
              "      <th>Term</th>\n",
              "      <th>Current Loan Amount</th>\n",
              "      <th>Current Credit Balance</th>\n",
              "      <th>Monthly Debt</th>\n",
              "      <th>Credit Score</th>\n",
              "      <th>Credit Default</th>\n",
              "    </tr>\n",
              "  </thead>\n",
              "  <tbody>\n",
              "    <tr>\n",
              "      <th>0</th>\n",
              "      <td>Own Home</td>\n",
              "      <td>482087.0</td>\n",
              "      <td>NaN</td>\n",
              "      <td>0.0</td>\n",
              "      <td>11.0</td>\n",
              "      <td>26.3</td>\n",
              "      <td>685960.0</td>\n",
              "      <td>1.0</td>\n",
              "      <td>NaN</td>\n",
              "      <td>1.0</td>\n",
              "      <td>debt consolidation</td>\n",
              "      <td>Short Term</td>\n",
              "      <td>99999999.0</td>\n",
              "      <td>47386.0</td>\n",
              "      <td>7914.0</td>\n",
              "      <td>749.0</td>\n",
              "      <td>0</td>\n",
              "    </tr>\n",
              "    <tr>\n",
              "      <th>1</th>\n",
              "      <td>Own Home</td>\n",
              "      <td>1025487.0</td>\n",
              "      <td>10+ years</td>\n",
              "      <td>0.0</td>\n",
              "      <td>15.0</td>\n",
              "      <td>15.3</td>\n",
              "      <td>1181730.0</td>\n",
              "      <td>0.0</td>\n",
              "      <td>NaN</td>\n",
              "      <td>0.0</td>\n",
              "      <td>debt consolidation</td>\n",
              "      <td>Long Term</td>\n",
              "      <td>264968.0</td>\n",
              "      <td>394972.0</td>\n",
              "      <td>18373.0</td>\n",
              "      <td>737.0</td>\n",
              "      <td>1</td>\n",
              "    </tr>\n",
              "    <tr>\n",
              "      <th>2</th>\n",
              "      <td>Home Mortgage</td>\n",
              "      <td>751412.0</td>\n",
              "      <td>8 years</td>\n",
              "      <td>0.0</td>\n",
              "      <td>11.0</td>\n",
              "      <td>35.0</td>\n",
              "      <td>1182434.0</td>\n",
              "      <td>0.0</td>\n",
              "      <td>NaN</td>\n",
              "      <td>0.0</td>\n",
              "      <td>debt consolidation</td>\n",
              "      <td>Short Term</td>\n",
              "      <td>99999999.0</td>\n",
              "      <td>308389.0</td>\n",
              "      <td>13651.0</td>\n",
              "      <td>742.0</td>\n",
              "      <td>0</td>\n",
              "    </tr>\n",
              "    <tr>\n",
              "      <th>3</th>\n",
              "      <td>Own Home</td>\n",
              "      <td>805068.0</td>\n",
              "      <td>6 years</td>\n",
              "      <td>0.0</td>\n",
              "      <td>8.0</td>\n",
              "      <td>22.5</td>\n",
              "      <td>147400.0</td>\n",
              "      <td>1.0</td>\n",
              "      <td>NaN</td>\n",
              "      <td>1.0</td>\n",
              "      <td>debt consolidation</td>\n",
              "      <td>Short Term</td>\n",
              "      <td>121396.0</td>\n",
              "      <td>95855.0</td>\n",
              "      <td>11338.0</td>\n",
              "      <td>694.0</td>\n",
              "      <td>0</td>\n",
              "    </tr>\n",
              "    <tr>\n",
              "      <th>4</th>\n",
              "      <td>Rent</td>\n",
              "      <td>776264.0</td>\n",
              "      <td>8 years</td>\n",
              "      <td>0.0</td>\n",
              "      <td>13.0</td>\n",
              "      <td>13.6</td>\n",
              "      <td>385836.0</td>\n",
              "      <td>1.0</td>\n",
              "      <td>NaN</td>\n",
              "      <td>0.0</td>\n",
              "      <td>debt consolidation</td>\n",
              "      <td>Short Term</td>\n",
              "      <td>125840.0</td>\n",
              "      <td>93309.0</td>\n",
              "      <td>7180.0</td>\n",
              "      <td>719.0</td>\n",
              "      <td>0</td>\n",
              "    </tr>\n",
              "    <tr>\n",
              "      <th>5</th>\n",
              "      <td>Rent</td>\n",
              "      <td>NaN</td>\n",
              "      <td>7 years</td>\n",
              "      <td>0.0</td>\n",
              "      <td>12.0</td>\n",
              "      <td>14.6</td>\n",
              "      <td>366784.0</td>\n",
              "      <td>0.0</td>\n",
              "      <td>NaN</td>\n",
              "      <td>0.0</td>\n",
              "      <td>other</td>\n",
              "      <td>Long Term</td>\n",
              "      <td>337304.0</td>\n",
              "      <td>165680.0</td>\n",
              "      <td>18692.0</td>\n",
              "      <td>NaN</td>\n",
              "      <td>1</td>\n",
              "    </tr>\n",
              "    <tr>\n",
              "      <th>6</th>\n",
              "      <td>Home Mortgage</td>\n",
              "      <td>1511108.0</td>\n",
              "      <td>10+ years</td>\n",
              "      <td>0.0</td>\n",
              "      <td>9.0</td>\n",
              "      <td>20.3</td>\n",
              "      <td>388124.0</td>\n",
              "      <td>0.0</td>\n",
              "      <td>73.0</td>\n",
              "      <td>0.0</td>\n",
              "      <td>home improvements</td>\n",
              "      <td>Short Term</td>\n",
              "      <td>99999999.0</td>\n",
              "      <td>51623.0</td>\n",
              "      <td>2317.0</td>\n",
              "      <td>745.0</td>\n",
              "      <td>0</td>\n",
              "    </tr>\n",
              "    <tr>\n",
              "      <th>7</th>\n",
              "      <td>Rent</td>\n",
              "      <td>1040060.0</td>\n",
              "      <td>10+ years</td>\n",
              "      <td>0.0</td>\n",
              "      <td>13.0</td>\n",
              "      <td>12.0</td>\n",
              "      <td>330374.0</td>\n",
              "      <td>0.0</td>\n",
              "      <td>18.0</td>\n",
              "      <td>0.0</td>\n",
              "      <td>other</td>\n",
              "      <td>Short Term</td>\n",
              "      <td>250888.0</td>\n",
              "      <td>89015.0</td>\n",
              "      <td>19761.0</td>\n",
              "      <td>705.0</td>\n",
              "      <td>1</td>\n",
              "    </tr>\n",
              "    <tr>\n",
              "      <th>8</th>\n",
              "      <td>Home Mortgage</td>\n",
              "      <td>NaN</td>\n",
              "      <td>5 years</td>\n",
              "      <td>0.0</td>\n",
              "      <td>17.0</td>\n",
              "      <td>15.7</td>\n",
              "      <td>0.0</td>\n",
              "      <td>1.0</td>\n",
              "      <td>NaN</td>\n",
              "      <td>1.0</td>\n",
              "      <td>home improvements</td>\n",
              "      <td>Short Term</td>\n",
              "      <td>129734.0</td>\n",
              "      <td>19.0</td>\n",
              "      <td>17.0</td>\n",
              "      <td>NaN</td>\n",
              "      <td>0</td>\n",
              "    </tr>\n",
              "    <tr>\n",
              "      <th>9</th>\n",
              "      <td>Home Mortgage</td>\n",
              "      <td>NaN</td>\n",
              "      <td>1 year</td>\n",
              "      <td>0.0</td>\n",
              "      <td>10.0</td>\n",
              "      <td>24.6</td>\n",
              "      <td>511302.0</td>\n",
              "      <td>0.0</td>\n",
              "      <td>6.0</td>\n",
              "      <td>0.0</td>\n",
              "      <td>debt consolidation</td>\n",
              "      <td>Long Term</td>\n",
              "      <td>572880.0</td>\n",
              "      <td>205333.0</td>\n",
              "      <td>17613.0</td>\n",
              "      <td>NaN</td>\n",
              "      <td>1</td>\n",
              "    </tr>\n",
              "  </tbody>\n",
              "</table>\n",
              "</div>\n",
              "      <button class=\"colab-df-convert\" onclick=\"convertToInteractive('df-52cd4c2a-4a0f-4a60-b3ee-39801bfee641')\"\n",
              "              title=\"Convert this dataframe to an interactive table.\"\n",
              "              style=\"display:none;\">\n",
              "        \n",
              "  <svg xmlns=\"http://www.w3.org/2000/svg\" height=\"24px\"viewBox=\"0 0 24 24\"\n",
              "       width=\"24px\">\n",
              "    <path d=\"M0 0h24v24H0V0z\" fill=\"none\"/>\n",
              "    <path d=\"M18.56 5.44l.94 2.06.94-2.06 2.06-.94-2.06-.94-.94-2.06-.94 2.06-2.06.94zm-11 1L8.5 8.5l.94-2.06 2.06-.94-2.06-.94L8.5 2.5l-.94 2.06-2.06.94zm10 10l.94 2.06.94-2.06 2.06-.94-2.06-.94-.94-2.06-.94 2.06-2.06.94z\"/><path d=\"M17.41 7.96l-1.37-1.37c-.4-.4-.92-.59-1.43-.59-.52 0-1.04.2-1.43.59L10.3 9.45l-7.72 7.72c-.78.78-.78 2.05 0 2.83L4 21.41c.39.39.9.59 1.41.59.51 0 1.02-.2 1.41-.59l7.78-7.78 2.81-2.81c.8-.78.8-2.07 0-2.86zM5.41 20L4 18.59l7.72-7.72 1.47 1.35L5.41 20z\"/>\n",
              "  </svg>\n",
              "      </button>\n",
              "      \n",
              "  <style>\n",
              "    .colab-df-container {\n",
              "      display:flex;\n",
              "      flex-wrap:wrap;\n",
              "      gap: 12px;\n",
              "    }\n",
              "\n",
              "    .colab-df-convert {\n",
              "      background-color: #E8F0FE;\n",
              "      border: none;\n",
              "      border-radius: 50%;\n",
              "      cursor: pointer;\n",
              "      display: none;\n",
              "      fill: #1967D2;\n",
              "      height: 32px;\n",
              "      padding: 0 0 0 0;\n",
              "      width: 32px;\n",
              "    }\n",
              "\n",
              "    .colab-df-convert:hover {\n",
              "      background-color: #E2EBFA;\n",
              "      box-shadow: 0px 1px 2px rgba(60, 64, 67, 0.3), 0px 1px 3px 1px rgba(60, 64, 67, 0.15);\n",
              "      fill: #174EA6;\n",
              "    }\n",
              "\n",
              "    [theme=dark] .colab-df-convert {\n",
              "      background-color: #3B4455;\n",
              "      fill: #D2E3FC;\n",
              "    }\n",
              "\n",
              "    [theme=dark] .colab-df-convert:hover {\n",
              "      background-color: #434B5C;\n",
              "      box-shadow: 0px 1px 3px 1px rgba(0, 0, 0, 0.15);\n",
              "      filter: drop-shadow(0px 1px 2px rgba(0, 0, 0, 0.3));\n",
              "      fill: #FFFFFF;\n",
              "    }\n",
              "  </style>\n",
              "\n",
              "      <script>\n",
              "        const buttonEl =\n",
              "          document.querySelector('#df-52cd4c2a-4a0f-4a60-b3ee-39801bfee641 button.colab-df-convert');\n",
              "        buttonEl.style.display =\n",
              "          google.colab.kernel.accessAllowed ? 'block' : 'none';\n",
              "\n",
              "        async function convertToInteractive(key) {\n",
              "          const element = document.querySelector('#df-52cd4c2a-4a0f-4a60-b3ee-39801bfee641');\n",
              "          const dataTable =\n",
              "            await google.colab.kernel.invokeFunction('convertToInteractive',\n",
              "                                                     [key], {});\n",
              "          if (!dataTable) return;\n",
              "\n",
              "          const docLinkHtml = 'Like what you see? Visit the ' +\n",
              "            '<a target=\"_blank\" href=https://colab.research.google.com/notebooks/data_table.ipynb>data table notebook</a>'\n",
              "            + ' to learn more about interactive tables.';\n",
              "          element.innerHTML = '';\n",
              "          dataTable['output_type'] = 'display_data';\n",
              "          await google.colab.output.renderOutput(dataTable, element);\n",
              "          const docLink = document.createElement('div');\n",
              "          docLink.innerHTML = docLinkHtml;\n",
              "          element.appendChild(docLink);\n",
              "        }\n",
              "      </script>\n",
              "    </div>\n",
              "  </div>\n",
              "  "
            ]
          },
          "metadata": {},
          "execution_count": 94
        }
      ]
    },
    {
      "cell_type": "code",
      "source": [
        "corr_with_target = df_train.corr().iloc[:-1, -1].sort_values(ascending=False)\n",
        "\n",
        "plt.figure(figsize=(10, 8))\n",
        "\n",
        "sns.barplot(x=corr_with_target.values, y=corr_with_target.index)\n",
        "\n",
        "plt.title('Correlation with target variable')\n",
        "plt.show()"
      ],
      "metadata": {
        "colab": {
          "base_uri": "https://localhost:8080/",
          "height": 499
        },
        "id": "TlgpucnmtQ1J",
        "outputId": "939da207-2771-4eb0-a095-3ad31ab2d5e5"
      },
      "execution_count": 95,
      "outputs": [
        {
          "output_type": "display_data",
          "data": {
            "text/plain": [
              "<Figure size 720x576 with 1 Axes>"
            ],
            "image/png": "[encoded data removed]"
          },
          "metadata": {
            "needs_background": "light"
          }
        }
      ]
    },
    {
      "cell_type": "code",
      "source": [
        "plt.figure(figsize=(10, 8))\n",
        "\n",
        "sns.countplot(x=\"Years in current job\", hue=TARGET_NAME, data=df_train)\n",
        "plt.title('\\\"Years in current job\\\" grouped by target variable')\n",
        "plt.legend(title='Target', loc='upper right')\n",
        "\n",
        "plt.show()"
      ],
      "metadata": {
        "colab": {
          "base_uri": "https://localhost:8080/",
          "height": 513
        },
        "id": "dQIwnWtPtXG5",
        "outputId": "04186ab3-5798-44bd-9fa0-cdccff0c2444"
      },
      "execution_count": 96,
      "outputs": [
        {
          "output_type": "display_data",
          "data": {
            "text/plain": [
              "<Figure size 720x576 with 1 Axes>"
            ],
            "image/png": "[encoded data removed]"
          },
          "metadata": {
            "needs_background": "light"
          }
        }
      ]
    },
    {
      "cell_type": "markdown",
      "source": [
        "Выводы для дальнейшего анализа датасета:\n",
        "\n",
        "Пропуски в \"Months since last delinquent\" возможно показывают, что на текущий момент просроченная задолжность отсутствует. NaN заменяется 0. Добавляется новый бинарный признак - 1/0 (задолженость/отсутствие задолженности).\n",
        "\n",
        "Пропуски в \"Annual Income\" могут свидетельствовать о неизвестном доходе. Данный критерий важен для анализа платежеспособности заемщика. Пропуски заменяются на медиану и определяется новое значение 0 (неизвестный доход).\n",
        "\n",
        "Значение 99999999 в признаке \"Current Loan Amount\" вызывает сомнение в его корректости. Скорее всего это выброс."
      ],
      "metadata": {
        "id": "YoJ_wULV1zen"
      }
    },
    {
      "cell_type": "markdown",
      "source": [
        "Обработка выбросов и пропусков"
      ],
      "metadata": {
        "id": "e9-q8Vp614hR"
      }
    },
    {
      "cell_type": "code",
      "source": [
        "# пропуски\n",
        "df_train.isna().sum()"
      ],
      "metadata": {
        "colab": {
          "base_uri": "https://localhost:8080/"
        },
        "id": "KnBHMmOGtZ_F",
        "outputId": "c49ba187-08e6-490e-83ce-09551a7e3b84"
      },
      "execution_count": 97,
      "outputs": [
        {
          "output_type": "execute_result",
          "data": {
            "text/plain": [
              "Home Ownership                     0\n",
              "Annual Income                   1557\n",
              "Years in current job             371\n",
              "Tax Liens                          0\n",
              "Number of Open Accounts            0\n",
              "Years of Credit History            0\n",
              "Maximum Open Credit                0\n",
              "Number of Credit Problems          0\n",
              "Months since last delinquent    4081\n",
              "Bankruptcies                      14\n",
              "Purpose                            0\n",
              "Term                               0\n",
              "Current Loan Amount                0\n",
              "Current Credit Balance             0\n",
              "Monthly Debt                       0\n",
              "Credit Score                    1557\n",
              "Credit Default                     0\n",
              "dtype: int64"
            ]
          },
          "metadata": {},
          "execution_count": 97
        }
      ]
    },
    {
      "cell_type": "code",
      "source": [
        "# Добавляется новый бинарный признак - 1/0 (задолженость/отсутствие задолженности)\n",
        "df_train['has_delay'] = 1\n",
        "df_train.loc[(df_train['Months since last delinquent'] == 0), 'has_delay'] = 0\n",
        "\n",
        "# Заменяется пропуск NaN на 0 в 'Months since last delinquent'\n",
        "df_train['Months since last delinquent'].fillna(0, inplace=True)"
      ],
      "metadata": {
        "id": "vUFy41fdtg5O"
      },
      "execution_count": 98,
      "outputs": []
    },
    {
      "cell_type": "code",
      "source": [
        "# Добавляется новый бинарный признак о неизвестном доходе 1/0 (доход известен/доход не известен)\n",
        "df_train['unknown_income'] = 0\n",
        "df_train.loc[(df_train['Annual Income'].isnull()), 'unknown_income'] = 1\n",
        "\n",
        "# В новую переменную annual_income_median записывается медианное значение дохода\n",
        "annual_income_median = df_train['Annual Income'].median()\n",
        "\n",
        "# Пропуски дохода заполняются медианным значением\n",
        "df_train['Annual Income'].fillna(annual_income_median, inplace=True)"
      ],
      "metadata": {
        "id": "R6fh42nYtkuZ"
      },
      "execution_count": 99,
      "outputs": []
    },
    {
      "cell_type": "code",
      "source": [
        "df_train.isnull().sum()\n",
        "df_train.head(10)"
      ],
      "metadata": {
        "colab": {
          "base_uri": "https://localhost:8080/",
          "height": 653
        },
        "id": "TVju-0Rwtofi",
        "outputId": "36e45f63-c462-4365-adad-880270755142"
      },
      "execution_count": 100,
      "outputs": [
        {
          "output_type": "execute_result",
          "data": {
            "text/plain": [
              "  Home Ownership  Annual Income Years in current job  Tax Liens  \\\n",
              "0       Own Home       482087.0                  NaN        0.0   \n",
              "1       Own Home      1025487.0            10+ years        0.0   \n",
              "2  Home Mortgage       751412.0              8 years        0.0   \n",
              "3       Own Home       805068.0              6 years        0.0   \n",
              "4           Rent       776264.0              8 years        0.0   \n",
              "5           Rent      1168386.0              7 years        0.0   \n",
              "6  Home Mortgage      1511108.0            10+ years        0.0   \n",
              "7           Rent      1040060.0            10+ years        0.0   \n",
              "8  Home Mortgage      1168386.0              5 years        0.0   \n",
              "9  Home Mortgage      1168386.0               1 year        0.0   \n",
              "\n",
              "   Number of Open Accounts  Years of Credit History  Maximum Open Credit  \\\n",
              "0                     11.0                     26.3             685960.0   \n",
              "1                     15.0                     15.3            1181730.0   \n",
              "2                     11.0                     35.0            1182434.0   \n",
              "3                      8.0                     22.5             147400.0   \n",
              "4                     13.0                     13.6             385836.0   \n",
              "5                     12.0                     14.6             366784.0   \n",
              "6                      9.0                     20.3             388124.0   \n",
              "7                     13.0                     12.0             330374.0   \n",
              "8                     17.0                     15.7                  0.0   \n",
              "9                     10.0                     24.6             511302.0   \n",
              "\n",
              "   Number of Credit Problems  Months since last delinquent  Bankruptcies  \\\n",
              "0                        1.0                           0.0           1.0   \n",
              "1                        0.0                           0.0           0.0   \n",
              "2                        0.0                           0.0           0.0   \n",
              "3                        1.0                           0.0           1.0   \n",
              "4                        1.0                           0.0           0.0   \n",
              "5                        0.0                           0.0           0.0   \n",
              "6                        0.0                          73.0           0.0   \n",
              "7                        0.0                          18.0           0.0   \n",
              "8                        1.0                           0.0           1.0   \n",
              "9                        0.0                           6.0           0.0   \n",
              "\n",
              "              Purpose        Term  Current Loan Amount  \\\n",
              "0  debt consolidation  Short Term           99999999.0   \n",
              "1  debt consolidation   Long Term             264968.0   \n",
              "2  debt consolidation  Short Term           99999999.0   \n",
              "3  debt consolidation  Short Term             121396.0   \n",
              "4  debt consolidation  Short Term             125840.0   \n",
              "5               other   Long Term             337304.0   \n",
              "6   home improvements  Short Term           99999999.0   \n",
              "7               other  Short Term             250888.0   \n",
              "8   home improvements  Short Term             129734.0   \n",
              "9  debt consolidation   Long Term             572880.0   \n",
              "\n",
              "   Current Credit Balance  Monthly Debt  Credit Score  Credit Default  \\\n",
              "0                 47386.0        7914.0         749.0               0   \n",
              "1                394972.0       18373.0         737.0               1   \n",
              "2                308389.0       13651.0         742.0               0   \n",
              "3                 95855.0       11338.0         694.0               0   \n",
              "4                 93309.0        7180.0         719.0               0   \n",
              "5                165680.0       18692.0           NaN               1   \n",
              "6                 51623.0        2317.0         745.0               0   \n",
              "7                 89015.0       19761.0         705.0               1   \n",
              "8                    19.0          17.0           NaN               0   \n",
              "9                205333.0       17613.0           NaN               1   \n",
              "\n",
              "   has_delay  unknown_income  \n",
              "0          1               0  \n",
              "1          1               0  \n",
              "2          1               0  \n",
              "3          1               0  \n",
              "4          1               0  \n",
              "5          1               1  \n",
              "6          1               0  \n",
              "7          1               0  \n",
              "8          1               1  \n",
              "9          1               1  "
            ],
            "text/html": [
              "\n",
              "  <div id=\"df-463e2225-de77-4f43-b7f7-a889ab5ce785\">\n",
              "    <div class=\"colab-df-container\">\n",
              "      <div>\n",
              "<style scoped>\n",
              "    .dataframe tbody tr th:only-of-type {\n",
              "        vertical-align: middle;\n",
              "    }\n",
              "\n",
              "    .dataframe tbody tr th {\n",
              "        vertical-align: top;\n",
              "    }\n",
              "\n",
              "    .dataframe thead th {\n",
              "        text-align: right;\n",
              "    }\n",
              "</style>\n",
              "<table border=\"1\" class=\"dataframe\">\n",
              "  <thead>\n",
              "    <tr style=\"text-align: right;\">\n",
              "      <th></th>\n",
              "      <th>Home Ownership</th>\n",
              "      <th>Annual Income</th>\n",
              "      <th>Years in current job</th>\n",
              "      <th>Tax Liens</th>\n",
              "      <th>Number of Open Accounts</th>\n",
              "      <th>Years of Credit History</th>\n",
              "      <th>Maximum Open Credit</th>\n",
              "      <th>Number of Credit Problems</th>\n",
              "      <th>Months since last delinquent</th>\n",
              "      <th>Bankruptcies</th>\n",
              "      <th>Purpose</th>\n",
              "      <th>Term</th>\n",
              "      <th>Current Loan Amount</th>\n",
              "      <th>Current Credit Balance</th>\n",
              "      <th>Monthly Debt</th>\n",
              "      <th>Credit Score</th>\n",
              "      <th>Credit Default</th>\n",
              "      <th>has_delay</th>\n",
              "      <th>unknown_income</th>\n",
              "    </tr>\n",
              "  </thead>\n",
              "  <tbody>\n",
              "    <tr>\n",
              "      <th>0</th>\n",
              "      <td>Own Home</td>\n",
              "      <td>482087.0</td>\n",
              "      <td>NaN</td>\n",
              "      <td>0.0</td>\n",
              "      <td>11.0</td>\n",
              "      <td>26.3</td>\n",
              "      <td>685960.0</td>\n",
              "      <td>1.0</td>\n",
              "      <td>0.0</td>\n",
              "      <td>1.0</td>\n",
              "      <td>debt consolidation</td>\n",
              "      <td>Short Term</td>\n",
              "      <td>99999999.0</td>\n",
              "      <td>47386.0</td>\n",
              "      <td>7914.0</td>\n",
              "      <td>749.0</td>\n",
              "      <td>0</td>\n",
              "      <td>1</td>\n",
              "      <td>0</td>\n",
              "    </tr>\n",
              "    <tr>\n",
              "      <th>1</th>\n",
              "      <td>Own Home</td>\n",
              "      <td>1025487.0</td>\n",
              "      <td>10+ years</td>\n",
              "      <td>0.0</td>\n",
              "      <td>15.0</td>\n",
              "      <td>15.3</td>\n",
              "      <td>1181730.0</td>\n",
              "      <td>0.0</td>\n",
              "      <td>0.0</td>\n",
              "      <td>0.0</td>\n",
              "      <td>debt consolidation</td>\n",
              "      <td>Long Term</td>\n",
              "      <td>264968.0</td>\n",
              "      <td>394972.0</td>\n",
              "      <td>18373.0</td>\n",
              "      <td>737.0</td>\n",
              "      <td>1</td>\n",
              "      <td>1</td>\n",
              "      <td>0</td>\n",
              "    </tr>\n",
              "    <tr>\n",
              "      <th>2</th>\n",
              "      <td>Home Mortgage</td>\n",
              "      <td>751412.0</td>\n",
              "      <td>8 years</td>\n",
              "      <td>0.0</td>\n",
              "      <td>11.0</td>\n",
              "      <td>35.0</td>\n",
              "      <td>1182434.0</td>\n",
              "      <td>0.0</td>\n",
              "      <td>0.0</td>\n",
              "      <td>0.0</td>\n",
              "      <td>debt consolidation</td>\n",
              "      <td>Short Term</td>\n",
              "      <td>99999999.0</td>\n",
              "      <td>308389.0</td>\n",
              "      <td>13651.0</td>\n",
              "      <td>742.0</td>\n",
              "      <td>0</td>\n",
              "      <td>1</td>\n",
              "      <td>0</td>\n",
              "    </tr>\n",
              "    <tr>\n",
              "      <th>3</th>\n",
              "      <td>Own Home</td>\n",
              "      <td>805068.0</td>\n",
              "      <td>6 years</td>\n",
              "      <td>0.0</td>\n",
              "      <td>8.0</td>\n",
              "      <td>22.5</td>\n",
              "      <td>147400.0</td>\n",
              "      <td>1.0</td>\n",
              "      <td>0.0</td>\n",
              "      <td>1.0</td>\n",
              "      <td>debt consolidation</td>\n",
              "      <td>Short Term</td>\n",
              "      <td>121396.0</td>\n",
              "      <td>95855.0</td>\n",
              "      <td>11338.0</td>\n",
              "      <td>694.0</td>\n",
              "      <td>0</td>\n",
              "      <td>1</td>\n",
              "      <td>0</td>\n",
              "    </tr>\n",
              "    <tr>\n",
              "      <th>4</th>\n",
              "      <td>Rent</td>\n",
              "      <td>776264.0</td>\n",
              "      <td>8 years</td>\n",
              "      <td>0.0</td>\n",
              "      <td>13.0</td>\n",
              "      <td>13.6</td>\n",
              "      <td>385836.0</td>\n",
              "      <td>1.0</td>\n",
              "      <td>0.0</td>\n",
              "      <td>0.0</td>\n",
              "      <td>debt consolidation</td>\n",
              "      <td>Short Term</td>\n",
              "      <td>125840.0</td>\n",
              "      <td>93309.0</td>\n",
              "      <td>7180.0</td>\n",
              "      <td>719.0</td>\n",
              "      <td>0</td>\n",
              "      <td>1</td>\n",
              "      <td>0</td>\n",
              "    </tr>\n",
              "    <tr>\n",
              "      <th>5</th>\n",
              "      <td>Rent</td>\n",
              "      <td>1168386.0</td>\n",
              "      <td>7 years</td>\n",
              "      <td>0.0</td>\n",
              "      <td>12.0</td>\n",
              "      <td>14.6</td>\n",
              "      <td>366784.0</td>\n",
              "      <td>0.0</td>\n",
              "      <td>0.0</td>\n",
              "      <td>0.0</td>\n",
              "      <td>other</td>\n",
              "      <td>Long Term</td>\n",
              "      <td>337304.0</td>\n",
              "      <td>165680.0</td>\n",
              "      <td>18692.0</td>\n",
              "      <td>NaN</td>\n",
              "      <td>1</td>\n",
              "      <td>1</td>\n",
              "      <td>1</td>\n",
              "    </tr>\n",
              "    <tr>\n",
              "      <th>6</th>\n",
              "      <td>Home Mortgage</td>\n",
              "      <td>1511108.0</td>\n",
              "      <td>10+ years</td>\n",
              "      <td>0.0</td>\n",
              "      <td>9.0</td>\n",
              "      <td>20.3</td>\n",
              "      <td>388124.0</td>\n",
              "      <td>0.0</td>\n",
              "      <td>73.0</td>\n",
              "      <td>0.0</td>\n",
              "      <td>home improvements</td>\n",
              "      <td>Short Term</td>\n",
              "      <td>99999999.0</td>\n",
              "      <td>51623.0</td>\n",
              "      <td>2317.0</td>\n",
              "      <td>745.0</td>\n",
              "      <td>0</td>\n",
              "      <td>1</td>\n",
              "      <td>0</td>\n",
              "    </tr>\n",
              "    <tr>\n",
              "      <th>7</th>\n",
              "      <td>Rent</td>\n",
              "      <td>1040060.0</td>\n",
              "      <td>10+ years</td>\n",
              "      <td>0.0</td>\n",
              "      <td>13.0</td>\n",
              "      <td>12.0</td>\n",
              "      <td>330374.0</td>\n",
              "      <td>0.0</td>\n",
              "      <td>18.0</td>\n",
              "      <td>0.0</td>\n",
              "      <td>other</td>\n",
              "      <td>Short Term</td>\n",
              "      <td>250888.0</td>\n",
              "      <td>89015.0</td>\n",
              "      <td>19761.0</td>\n",
              "      <td>705.0</td>\n",
              "      <td>1</td>\n",
              "      <td>1</td>\n",
              "      <td>0</td>\n",
              "    </tr>\n",
              "    <tr>\n",
              "      <th>8</th>\n",
              "      <td>Home Mortgage</td>\n",
              "      <td>1168386.0</td>\n",
              "      <td>5 years</td>\n",
              "      <td>0.0</td>\n",
              "      <td>17.0</td>\n",
              "      <td>15.7</td>\n",
              "      <td>0.0</td>\n",
              "      <td>1.0</td>\n",
              "      <td>0.0</td>\n",
              "      <td>1.0</td>\n",
              "      <td>home improvements</td>\n",
              "      <td>Short Term</td>\n",
              "      <td>129734.0</td>\n",
              "      <td>19.0</td>\n",
              "      <td>17.0</td>\n",
              "      <td>NaN</td>\n",
              "      <td>0</td>\n",
              "      <td>1</td>\n",
              "      <td>1</td>\n",
              "    </tr>\n",
              "    <tr>\n",
              "      <th>9</th>\n",
              "      <td>Home Mortgage</td>\n",
              "      <td>1168386.0</td>\n",
              "      <td>1 year</td>\n",
              "      <td>0.0</td>\n",
              "      <td>10.0</td>\n",
              "      <td>24.6</td>\n",
              "      <td>511302.0</td>\n",
              "      <td>0.0</td>\n",
              "      <td>6.0</td>\n",
              "      <td>0.0</td>\n",
              "      <td>debt consolidation</td>\n",
              "      <td>Long Term</td>\n",
              "      <td>572880.0</td>\n",
              "      <td>205333.0</td>\n",
              "      <td>17613.0</td>\n",
              "      <td>NaN</td>\n",
              "      <td>1</td>\n",
              "      <td>1</td>\n",
              "      <td>1</td>\n",
              "    </tr>\n",
              "  </tbody>\n",
              "</table>\n",
              "</div>\n",
              "      <button class=\"colab-df-convert\" onclick=\"convertToInteractive('df-463e2225-de77-4f43-b7f7-a889ab5ce785')\"\n",
              "              title=\"Convert this dataframe to an interactive table.\"\n",
              "              style=\"display:none;\">\n",
              "        \n",
              "  <svg xmlns=\"http://www.w3.org/2000/svg\" height=\"24px\"viewBox=\"0 0 24 24\"\n",
              "       width=\"24px\">\n",
              "    <path d=\"M0 0h24v24H0V0z\" fill=\"none\"/>\n",
              "    <path d=\"M18.56 5.44l.94 2.06.94-2.06 2.06-.94-2.06-.94-.94-2.06-.94 2.06-2.06.94zm-11 1L8.5 8.5l.94-2.06 2.06-.94-2.06-.94L8.5 2.5l-.94 2.06-2.06.94zm10 10l.94 2.06.94-2.06 2.06-.94-2.06-.94-.94-2.06-.94 2.06-2.06.94z\"/><path d=\"M17.41 7.96l-1.37-1.37c-.4-.4-.92-.59-1.43-.59-.52 0-1.04.2-1.43.59L10.3 9.45l-7.72 7.72c-.78.78-.78 2.05 0 2.83L4 21.41c.39.39.9.59 1.41.59.51 0 1.02-.2 1.41-.59l7.78-7.78 2.81-2.81c.8-.78.8-2.07 0-2.86zM5.41 20L4 18.59l7.72-7.72 1.47 1.35L5.41 20z\"/>\n",
              "  </svg>\n",
              "      </button>\n",
              "      \n",
              "  <style>\n",
              "    .colab-df-container {\n",
              "      display:flex;\n",
              "      flex-wrap:wrap;\n",
              "      gap: 12px;\n",
              "    }\n",
              "\n",
              "    .colab-df-convert {\n",
              "      background-color: #E8F0FE;\n",
              "      border: none;\n",
              "      border-radius: 50%;\n",
              "      cursor: pointer;\n",
              "      display: none;\n",
              "      fill: #1967D2;\n",
              "      height: 32px;\n",
              "      padding: 0 0 0 0;\n",
              "      width: 32px;\n",
              "    }\n",
              "\n",
              "    .colab-df-convert:hover {\n",
              "      background-color: #E2EBFA;\n",
              "      box-shadow: 0px 1px 2px rgba(60, 64, 67, 0.3), 0px 1px 3px 1px rgba(60, 64, 67, 0.15);\n",
              "      fill: #174EA6;\n",
              "    }\n",
              "\n",
              "    [theme=dark] .colab-df-convert {\n",
              "      background-color: #3B4455;\n",
              "      fill: #D2E3FC;\n",
              "    }\n",
              "\n",
              "    [theme=dark] .colab-df-convert:hover {\n",
              "      background-color: #434B5C;\n",
              "      box-shadow: 0px 1px 3px 1px rgba(0, 0, 0, 0.15);\n",
              "      filter: drop-shadow(0px 1px 2px rgba(0, 0, 0, 0.3));\n",
              "      fill: #FFFFFF;\n",
              "    }\n",
              "  </style>\n",
              "\n",
              "      <script>\n",
              "        const buttonEl =\n",
              "          document.querySelector('#df-463e2225-de77-4f43-b7f7-a889ab5ce785 button.colab-df-convert');\n",
              "        buttonEl.style.display =\n",
              "          google.colab.kernel.accessAllowed ? 'block' : 'none';\n",
              "\n",
              "        async function convertToInteractive(key) {\n",
              "          const element = document.querySelector('#df-463e2225-de77-4f43-b7f7-a889ab5ce785');\n",
              "          const dataTable =\n",
              "            await google.colab.kernel.invokeFunction('convertToInteractive',\n",
              "                                                     [key], {});\n",
              "          if (!dataTable) return;\n",
              "\n",
              "          const docLinkHtml = 'Like what you see? Visit the ' +\n",
              "            '<a target=\"_blank\" href=https://colab.research.google.com/notebooks/data_table.ipynb>data table notebook</a>'\n",
              "            + ' to learn more about interactive tables.';\n",
              "          element.innerHTML = '';\n",
              "          dataTable['output_type'] = 'display_data';\n",
              "          await google.colab.output.renderOutput(dataTable, element);\n",
              "          const docLink = document.createElement('div');\n",
              "          docLink.innerHTML = docLinkHtml;\n",
              "          element.appendChild(docLink);\n",
              "        }\n",
              "      </script>\n",
              "    </div>\n",
              "  </div>\n",
              "  "
            ]
          },
          "metadata": {},
          "execution_count": 100
        }
      ]
    },
    {
      "cell_type": "code",
      "source": [
        "NEW_FEATURE_NAMES = ['has_delay','unknown_income']"
      ],
      "metadata": {
        "id": "CeBoZOr6trit"
      },
      "execution_count": 101,
      "outputs": []
    },
    {
      "cell_type": "code",
      "source": [
        "corr_with_target = df_train[BASE_FEATURE_NAMES + \n",
        "                            NEW_FEATURE_NAMES + \n",
        "                            [TARGET_NAME]].corr().iloc[:-1, -1].sort_values(ascending=False)\n",
        "\n",
        "plt.figure(figsize=(10, 8))\n",
        "\n",
        "sns.barplot(x=corr_with_target.values, y=corr_with_target.index)\n",
        "\n",
        "plt.title('Correlation with target variable')\n",
        "plt.show()"
      ],
      "metadata": {
        "colab": {
          "base_uri": "https://localhost:8080/",
          "height": 499
        },
        "id": "rQ3CqbnMtxtj",
        "outputId": "622181e2-ee38-451d-baf5-0d37dc1ed0ea"
      },
      "execution_count": 102,
      "outputs": [
        {
          "output_type": "display_data",
          "data": {
            "text/plain": [
              "<Figure size 720x576 with 1 Axes>"
            ],
            "image/png": "[encoded data removed]"
          },
          "metadata": {
            "needs_background": "light"
          }
        }
      ]
    },
    {
      "cell_type": "markdown",
      "source": [
        "Анализ данных, отбор признаков, балансировка классов"
      ],
      "metadata": {
        "id": "H-SzFGG42GFw"
      }
    },
    {
      "cell_type": "code",
      "source": [
        "# Определение количества людей, в группах по стажу работы, не возвращающих кредит\n",
        "\n",
        "g = sns.catplot(\"Credit Default\", col=\"Years in current job\", col_wrap=5,\n",
        "                data=df_train,\n",
        "                kind=\"count\", height=3.5, aspect=.8, \n",
        "                palette='tab20')\n",
        "\n",
        "#fig.suptitle('sf')\n",
        "plt.show()"
      ],
      "metadata": {
        "colab": {
          "base_uri": "https://localhost:8080/",
          "height": 765
        },
        "id": "YTrCenqhtzMW",
        "outputId": "9164c920-0543-4175-dc80-eb398a607f9c"
      },
      "execution_count": 103,
      "outputs": [
        {
          "output_type": "display_data",
          "data": {
            "text/plain": [
              "<Figure size 1008x756 with 11 Axes>"
            ],
            "image/png": "[encoded data removed]"
          },
          "metadata": {
            "needs_background": "light"
          }
        }
      ]
    },
    {
      "cell_type": "code",
      "source": [
        "plt.figure(figsize = (10, 3))\n",
        "\n",
        "df_train['Credit Score'].hist(bins=30, )\n",
        "plt.ylabel('Count')\n",
        "plt.xlabel('Credit Score')\n",
        "\n",
        "plt.show()"
      ],
      "metadata": {
        "colab": {
          "base_uri": "https://localhost:8080/",
          "height": 225
        },
        "id": "JytUOSnyt5YZ",
        "outputId": "e1e475bf-9643-4cea-edac-77384e6af5b0"
      },
      "execution_count": 104,
      "outputs": [
        {
          "output_type": "display_data",
          "data": {
            "text/plain": [
              "<Figure size 720x216 with 1 Axes>"
            ],
            "image/png": "[encoded data removed]"
          },
          "metadata": {
            "needs_background": "light"
          }
        }
      ]
    },
    {
      "cell_type": "code",
      "source": [
        "df_train.isnull().sum()"
      ],
      "metadata": {
        "colab": {
          "base_uri": "https://localhost:8080/"
        },
        "id": "ggJk1rkmuBCz",
        "outputId": "56417b43-386a-4432-a076-1900329f3116"
      },
      "execution_count": 105,
      "outputs": [
        {
          "output_type": "execute_result",
          "data": {
            "text/plain": [
              "Home Ownership                     0\n",
              "Annual Income                      0\n",
              "Years in current job             371\n",
              "Tax Liens                          0\n",
              "Number of Open Accounts            0\n",
              "Years of Credit History            0\n",
              "Maximum Open Credit                0\n",
              "Number of Credit Problems          0\n",
              "Months since last delinquent       0\n",
              "Bankruptcies                      14\n",
              "Purpose                            0\n",
              "Term                               0\n",
              "Current Loan Amount                0\n",
              "Current Credit Balance             0\n",
              "Monthly Debt                       0\n",
              "Credit Score                    1557\n",
              "Credit Default                     0\n",
              "has_delay                          0\n",
              "unknown_income                     0\n",
              "dtype: int64"
            ]
          },
          "metadata": {},
          "execution_count": 105
        }
      ]
    },
    {
      "cell_type": "markdown",
      "source": [
        "Обработка 'Credit Score'"
      ],
      "metadata": {
        "id": "ODt-A42E2ZmJ"
      }
    },
    {
      "cell_type": "code",
      "source": [
        "# Добавляется новая переменная unknown_credit_score по неизвестному Credit Score с присвоением 0 всем наблюдениям \n",
        "df_train['unknown_credit_score'] = 0\n",
        "\n",
        "NEW_FEATURE_NAMES = ['has_delay','unknown_income','unknown_credit_score']\n",
        "\n",
        "# В переменную credit_score_median записывается медианное значение рейтинга\n",
        "credit_score_median = df_train['Credit Score'].median()\n",
        "\n",
        "# По известному кредитному рейтингу присваивается 1 в переменной unknown_credit_score\n",
        "df_train.loc[(df_train['Credit Score'].isnull()), 'unknown_credit_score'] = 1\n",
        "\n",
        "# Пропуски рейтинга заполняются медианным значением\n",
        "df_train['Credit Score'].fillna(credit_score_median, inplace=True)"
      ],
      "metadata": {
        "id": "DRDWfYequHN1"
      },
      "execution_count": 107,
      "outputs": []
    },
    {
      "cell_type": "markdown",
      "source": [
        "Обработка Years in current job"
      ],
      "metadata": {
        "id": "ewmLvY0S2ePR"
      }
    },
    {
      "cell_type": "code",
      "source": [
        "import random\n",
        "\n",
        "# Уникальные значения Years in current job\n",
        "unique_years_in_current_job = df_train['Years in current job'].unique()\n",
        "\n",
        "var_experiance = unique_years_in_current_job[1:]\n",
        "\n",
        "# NaN заменяется на рандомный опыт\n",
        "df_train['Years in current job'].fillna(random.choice(var_experiance), inplace=True)"
      ],
      "metadata": {
        "id": "lHWat4zZuLs5"
      },
      "execution_count": 108,
      "outputs": []
    },
    {
      "cell_type": "code",
      "source": [
        "df_train.isnull().sum()"
      ],
      "metadata": {
        "colab": {
          "base_uri": "https://localhost:8080/"
        },
        "id": "7nRMiTQDuQBK",
        "outputId": "fc7d87b4-ae7f-41b2-b5fe-51576c65076c"
      },
      "execution_count": 109,
      "outputs": [
        {
          "output_type": "execute_result",
          "data": {
            "text/plain": [
              "Home Ownership                   0\n",
              "Annual Income                    0\n",
              "Years in current job             0\n",
              "Tax Liens                        0\n",
              "Number of Open Accounts          0\n",
              "Years of Credit History          0\n",
              "Maximum Open Credit              0\n",
              "Number of Credit Problems        0\n",
              "Months since last delinquent     0\n",
              "Bankruptcies                    14\n",
              "Purpose                          0\n",
              "Term                             0\n",
              "Current Loan Amount              0\n",
              "Current Credit Balance           0\n",
              "Monthly Debt                     0\n",
              "Credit Score                     0\n",
              "Credit Default                   0\n",
              "has_delay                        0\n",
              "unknown_income                   0\n",
              "unknown_credit_score             0\n",
              "dtype: int64"
            ]
          },
          "metadata": {},
          "execution_count": 109
        }
      ]
    },
    {
      "cell_type": "code",
      "source": [
        "df_train.head(10)"
      ],
      "metadata": {
        "colab": {
          "base_uri": "https://localhost:8080/",
          "height": 653
        },
        "id": "z9WoSIeKuTZx",
        "outputId": "65e453be-da4a-470b-fe95-190c03fbed72"
      },
      "execution_count": 110,
      "outputs": [
        {
          "output_type": "execute_result",
          "data": {
            "text/plain": [
              "  Home Ownership  Annual Income Years in current job  Tax Liens  \\\n",
              "0       Own Home       482087.0              5 years        0.0   \n",
              "1       Own Home      1025487.0            10+ years        0.0   \n",
              "2  Home Mortgage       751412.0              8 years        0.0   \n",
              "3       Own Home       805068.0              6 years        0.0   \n",
              "4           Rent       776264.0              8 years        0.0   \n",
              "5           Rent      1168386.0              7 years        0.0   \n",
              "6  Home Mortgage      1511108.0            10+ years        0.0   \n",
              "7           Rent      1040060.0            10+ years        0.0   \n",
              "8  Home Mortgage      1168386.0              5 years        0.0   \n",
              "9  Home Mortgage      1168386.0               1 year        0.0   \n",
              "\n",
              "   Number of Open Accounts  Years of Credit History  Maximum Open Credit  \\\n",
              "0                     11.0                     26.3             685960.0   \n",
              "1                     15.0                     15.3            1181730.0   \n",
              "2                     11.0                     35.0            1182434.0   \n",
              "3                      8.0                     22.5             147400.0   \n",
              "4                     13.0                     13.6             385836.0   \n",
              "5                     12.0                     14.6             366784.0   \n",
              "6                      9.0                     20.3             388124.0   \n",
              "7                     13.0                     12.0             330374.0   \n",
              "8                     17.0                     15.7                  0.0   \n",
              "9                     10.0                     24.6             511302.0   \n",
              "\n",
              "   Number of Credit Problems  Months since last delinquent  Bankruptcies  \\\n",
              "0                        1.0                           0.0           1.0   \n",
              "1                        0.0                           0.0           0.0   \n",
              "2                        0.0                           0.0           0.0   \n",
              "3                        1.0                           0.0           1.0   \n",
              "4                        1.0                           0.0           0.0   \n",
              "5                        0.0                           0.0           0.0   \n",
              "6                        0.0                          73.0           0.0   \n",
              "7                        0.0                          18.0           0.0   \n",
              "8                        1.0                           0.0           1.0   \n",
              "9                        0.0                           6.0           0.0   \n",
              "\n",
              "              Purpose        Term  Current Loan Amount  \\\n",
              "0  debt consolidation  Short Term           99999999.0   \n",
              "1  debt consolidation   Long Term             264968.0   \n",
              "2  debt consolidation  Short Term           99999999.0   \n",
              "3  debt consolidation  Short Term             121396.0   \n",
              "4  debt consolidation  Short Term             125840.0   \n",
              "5               other   Long Term             337304.0   \n",
              "6   home improvements  Short Term           99999999.0   \n",
              "7               other  Short Term             250888.0   \n",
              "8   home improvements  Short Term             129734.0   \n",
              "9  debt consolidation   Long Term             572880.0   \n",
              "\n",
              "   Current Credit Balance  Monthly Debt  Credit Score  Credit Default  \\\n",
              "0                 47386.0        7914.0         749.0               0   \n",
              "1                394972.0       18373.0         737.0               1   \n",
              "2                308389.0       13651.0         742.0               0   \n",
              "3                 95855.0       11338.0         694.0               0   \n",
              "4                 93309.0        7180.0         719.0               0   \n",
              "5                165680.0       18692.0         731.0               1   \n",
              "6                 51623.0        2317.0         745.0               0   \n",
              "7                 89015.0       19761.0         705.0               1   \n",
              "8                    19.0          17.0         731.0               0   \n",
              "9                205333.0       17613.0         731.0               1   \n",
              "\n",
              "   has_delay  unknown_income  unknown_credit_score  \n",
              "0          1               0                     0  \n",
              "1          1               0                     0  \n",
              "2          1               0                     0  \n",
              "3          1               0                     0  \n",
              "4          1               0                     0  \n",
              "5          1               1                     0  \n",
              "6          1               0                     0  \n",
              "7          1               0                     0  \n",
              "8          1               1                     0  \n",
              "9          1               1                     0  "
            ],
            "text/html": [
              "\n",
              "  <div id=\"df-09964844-27ba-4cbe-899d-2d39044697cd\">\n",
              "    <div class=\"colab-df-container\">\n",
              "      <div>\n",
              "<style scoped>\n",
              "    .dataframe tbody tr th:only-of-type {\n",
              "        vertical-align: middle;\n",
              "    }\n",
              "\n",
              "    .dataframe tbody tr th {\n",
              "        vertical-align: top;\n",
              "    }\n",
              "\n",
              "    .dataframe thead th {\n",
              "        text-align: right;\n",
              "    }\n",
              "</style>\n",
              "<table border=\"1\" class=\"dataframe\">\n",
              "  <thead>\n",
              "    <tr style=\"text-align: right;\">\n",
              "      <th></th>\n",
              "      <th>Home Ownership</th>\n",
              "      <th>Annual Income</th>\n",
              "      <th>Years in current job</th>\n",
              "      <th>Tax Liens</th>\n",
              "      <th>Number of Open Accounts</th>\n",
              "      <th>Years of Credit History</th>\n",
              "      <th>Maximum Open Credit</th>\n",
              "      <th>Number of Credit Problems</th>\n",
              "      <th>Months since last delinquent</th>\n",
              "      <th>Bankruptcies</th>\n",
              "      <th>Purpose</th>\n",
              "      <th>Term</th>\n",
              "      <th>Current Loan Amount</th>\n",
              "      <th>Current Credit Balance</th>\n",
              "      <th>Monthly Debt</th>\n",
              "      <th>Credit Score</th>\n",
              "      <th>Credit Default</th>\n",
              "      <th>has_delay</th>\n",
              "      <th>unknown_income</th>\n",
              "      <th>unknown_credit_score</th>\n",
              "    </tr>\n",
              "  </thead>\n",
              "  <tbody>\n",
              "    <tr>\n",
              "      <th>0</th>\n",
              "      <td>Own Home</td>\n",
              "      <td>482087.0</td>\n",
              "      <td>5 years</td>\n",
              "      <td>0.0</td>\n",
              "      <td>11.0</td>\n",
              "      <td>26.3</td>\n",
              "      <td>685960.0</td>\n",
              "      <td>1.0</td>\n",
              "      <td>0.0</td>\n",
              "      <td>1.0</td>\n",
              "      <td>debt consolidation</td>\n",
              "      <td>Short Term</td>\n",
              "      <td>99999999.0</td>\n",
              "      <td>47386.0</td>\n",
              "      <td>7914.0</td>\n",
              "      <td>749.0</td>\n",
              "      <td>0</td>\n",
              "      <td>1</td>\n",
              "      <td>0</td>\n",
              "      <td>0</td>\n",
              "    </tr>\n",
              "    <tr>\n",
              "      <th>1</th>\n",
              "      <td>Own Home</td>\n",
              "      <td>1025487.0</td>\n",
              "      <td>10+ years</td>\n",
              "      <td>0.0</td>\n",
              "      <td>15.0</td>\n",
              "      <td>15.3</td>\n",
              "      <td>1181730.0</td>\n",
              "      <td>0.0</td>\n",
              "      <td>0.0</td>\n",
              "      <td>0.0</td>\n",
              "      <td>debt consolidation</td>\n",
              "      <td>Long Term</td>\n",
              "      <td>264968.0</td>\n",
              "      <td>394972.0</td>\n",
              "      <td>18373.0</td>\n",
              "      <td>737.0</td>\n",
              "      <td>1</td>\n",
              "      <td>1</td>\n",
              "      <td>0</td>\n",
              "      <td>0</td>\n",
              "    </tr>\n",
              "    <tr>\n",
              "      <th>2</th>\n",
              "      <td>Home Mortgage</td>\n",
              "      <td>751412.0</td>\n",
              "      <td>8 years</td>\n",
              "      <td>0.0</td>\n",
              "      <td>11.0</td>\n",
              "      <td>35.0</td>\n",
              "      <td>1182434.0</td>\n",
              "      <td>0.0</td>\n",
              "      <td>0.0</td>\n",
              "      <td>0.0</td>\n",
              "      <td>debt consolidation</td>\n",
              "      <td>Short Term</td>\n",
              "      <td>99999999.0</td>\n",
              "      <td>308389.0</td>\n",
              "      <td>13651.0</td>\n",
              "      <td>742.0</td>\n",
              "      <td>0</td>\n",
              "      <td>1</td>\n",
              "      <td>0</td>\n",
              "      <td>0</td>\n",
              "    </tr>\n",
              "    <tr>\n",
              "      <th>3</th>\n",
              "      <td>Own Home</td>\n",
              "      <td>805068.0</td>\n",
              "      <td>6 years</td>\n",
              "      <td>0.0</td>\n",
              "      <td>8.0</td>\n",
              "      <td>22.5</td>\n",
              "      <td>147400.0</td>\n",
              "      <td>1.0</td>\n",
              "      <td>0.0</td>\n",
              "      <td>1.0</td>\n",
              "      <td>debt consolidation</td>\n",
              "      <td>Short Term</td>\n",
              "      <td>121396.0</td>\n",
              "      <td>95855.0</td>\n",
              "      <td>11338.0</td>\n",
              "      <td>694.0</td>\n",
              "      <td>0</td>\n",
              "      <td>1</td>\n",
              "      <td>0</td>\n",
              "      <td>0</td>\n",
              "    </tr>\n",
              "    <tr>\n",
              "      <th>4</th>\n",
              "      <td>Rent</td>\n",
              "      <td>776264.0</td>\n",
              "      <td>8 years</td>\n",
              "      <td>0.0</td>\n",
              "      <td>13.0</td>\n",
              "      <td>13.6</td>\n",
              "      <td>385836.0</td>\n",
              "      <td>1.0</td>\n",
              "      <td>0.0</td>\n",
              "      <td>0.0</td>\n",
              "      <td>debt consolidation</td>\n",
              "      <td>Short Term</td>\n",
              "      <td>125840.0</td>\n",
              "      <td>93309.0</td>\n",
              "      <td>7180.0</td>\n",
              "      <td>719.0</td>\n",
              "      <td>0</td>\n",
              "      <td>1</td>\n",
              "      <td>0</td>\n",
              "      <td>0</td>\n",
              "    </tr>\n",
              "    <tr>\n",
              "      <th>5</th>\n",
              "      <td>Rent</td>\n",
              "      <td>1168386.0</td>\n",
              "      <td>7 years</td>\n",
              "      <td>0.0</td>\n",
              "      <td>12.0</td>\n",
              "      <td>14.6</td>\n",
              "      <td>366784.0</td>\n",
              "      <td>0.0</td>\n",
              "      <td>0.0</td>\n",
              "      <td>0.0</td>\n",
              "      <td>other</td>\n",
              "      <td>Long Term</td>\n",
              "      <td>337304.0</td>\n",
              "      <td>165680.0</td>\n",
              "      <td>18692.0</td>\n",
              "      <td>731.0</td>\n",
              "      <td>1</td>\n",
              "      <td>1</td>\n",
              "      <td>1</td>\n",
              "      <td>0</td>\n",
              "    </tr>\n",
              "    <tr>\n",
              "      <th>6</th>\n",
              "      <td>Home Mortgage</td>\n",
              "      <td>1511108.0</td>\n",
              "      <td>10+ years</td>\n",
              "      <td>0.0</td>\n",
              "      <td>9.0</td>\n",
              "      <td>20.3</td>\n",
              "      <td>388124.0</td>\n",
              "      <td>0.0</td>\n",
              "      <td>73.0</td>\n",
              "      <td>0.0</td>\n",
              "      <td>home improvements</td>\n",
              "      <td>Short Term</td>\n",
              "      <td>99999999.0</td>\n",
              "      <td>51623.0</td>\n",
              "      <td>2317.0</td>\n",
              "      <td>745.0</td>\n",
              "      <td>0</td>\n",
              "      <td>1</td>\n",
              "      <td>0</td>\n",
              "      <td>0</td>\n",
              "    </tr>\n",
              "    <tr>\n",
              "      <th>7</th>\n",
              "      <td>Rent</td>\n",
              "      <td>1040060.0</td>\n",
              "      <td>10+ years</td>\n",
              "      <td>0.0</td>\n",
              "      <td>13.0</td>\n",
              "      <td>12.0</td>\n",
              "      <td>330374.0</td>\n",
              "      <td>0.0</td>\n",
              "      <td>18.0</td>\n",
              "      <td>0.0</td>\n",
              "      <td>other</td>\n",
              "      <td>Short Term</td>\n",
              "      <td>250888.0</td>\n",
              "      <td>89015.0</td>\n",
              "      <td>19761.0</td>\n",
              "      <td>705.0</td>\n",
              "      <td>1</td>\n",
              "      <td>1</td>\n",
              "      <td>0</td>\n",
              "      <td>0</td>\n",
              "    </tr>\n",
              "    <tr>\n",
              "      <th>8</th>\n",
              "      <td>Home Mortgage</td>\n",
              "      <td>1168386.0</td>\n",
              "      <td>5 years</td>\n",
              "      <td>0.0</td>\n",
              "      <td>17.0</td>\n",
              "      <td>15.7</td>\n",
              "      <td>0.0</td>\n",
              "      <td>1.0</td>\n",
              "      <td>0.0</td>\n",
              "      <td>1.0</td>\n",
              "      <td>home improvements</td>\n",
              "      <td>Short Term</td>\n",
              "      <td>129734.0</td>\n",
              "      <td>19.0</td>\n",
              "      <td>17.0</td>\n",
              "      <td>731.0</td>\n",
              "      <td>0</td>\n",
              "      <td>1</td>\n",
              "      <td>1</td>\n",
              "      <td>0</td>\n",
              "    </tr>\n",
              "    <tr>\n",
              "      <th>9</th>\n",
              "      <td>Home Mortgage</td>\n",
              "      <td>1168386.0</td>\n",
              "      <td>1 year</td>\n",
              "      <td>0.0</td>\n",
              "      <td>10.0</td>\n",
              "      <td>24.6</td>\n",
              "      <td>511302.0</td>\n",
              "      <td>0.0</td>\n",
              "      <td>6.0</td>\n",
              "      <td>0.0</td>\n",
              "      <td>debt consolidation</td>\n",
              "      <td>Long Term</td>\n",
              "      <td>572880.0</td>\n",
              "      <td>205333.0</td>\n",
              "      <td>17613.0</td>\n",
              "      <td>731.0</td>\n",
              "      <td>1</td>\n",
              "      <td>1</td>\n",
              "      <td>1</td>\n",
              "      <td>0</td>\n",
              "    </tr>\n",
              "  </tbody>\n",
              "</table>\n",
              "</div>\n",
              "      <button class=\"colab-df-convert\" onclick=\"convertToInteractive('df-09964844-27ba-4cbe-899d-2d39044697cd')\"\n",
              "              title=\"Convert this dataframe to an interactive table.\"\n",
              "              style=\"display:none;\">\n",
              "        \n",
              "  <svg xmlns=\"http://www.w3.org/2000/svg\" height=\"24px\"viewBox=\"0 0 24 24\"\n",
              "       width=\"24px\">\n",
              "    <path d=\"M0 0h24v24H0V0z\" fill=\"none\"/>\n",
              "    <path d=\"M18.56 5.44l.94 2.06.94-2.06 2.06-.94-2.06-.94-.94-2.06-.94 2.06-2.06.94zm-11 1L8.5 8.5l.94-2.06 2.06-.94-2.06-.94L8.5 2.5l-.94 2.06-2.06.94zm10 10l.94 2.06.94-2.06 2.06-.94-2.06-.94-.94-2.06-.94 2.06-2.06.94z\"/><path d=\"M17.41 7.96l-1.37-1.37c-.4-.4-.92-.59-1.43-.59-.52 0-1.04.2-1.43.59L10.3 9.45l-7.72 7.72c-.78.78-.78 2.05 0 2.83L4 21.41c.39.39.9.59 1.41.59.51 0 1.02-.2 1.41-.59l7.78-7.78 2.81-2.81c.8-.78.8-2.07 0-2.86zM5.41 20L4 18.59l7.72-7.72 1.47 1.35L5.41 20z\"/>\n",
              "  </svg>\n",
              "      </button>\n",
              "      \n",
              "  <style>\n",
              "    .colab-df-container {\n",
              "      display:flex;\n",
              "      flex-wrap:wrap;\n",
              "      gap: 12px;\n",
              "    }\n",
              "\n",
              "    .colab-df-convert {\n",
              "      background-color: #E8F0FE;\n",
              "      border: none;\n",
              "      border-radius: 50%;\n",
              "      cursor: pointer;\n",
              "      display: none;\n",
              "      fill: #1967D2;\n",
              "      height: 32px;\n",
              "      padding: 0 0 0 0;\n",
              "      width: 32px;\n",
              "    }\n",
              "\n",
              "    .colab-df-convert:hover {\n",
              "      background-color: #E2EBFA;\n",
              "      box-shadow: 0px 1px 2px rgba(60, 64, 67, 0.3), 0px 1px 3px 1px rgba(60, 64, 67, 0.15);\n",
              "      fill: #174EA6;\n",
              "    }\n",
              "\n",
              "    [theme=dark] .colab-df-convert {\n",
              "      background-color: #3B4455;\n",
              "      fill: #D2E3FC;\n",
              "    }\n",
              "\n",
              "    [theme=dark] .colab-df-convert:hover {\n",
              "      background-color: #434B5C;\n",
              "      box-shadow: 0px 1px 3px 1px rgba(0, 0, 0, 0.15);\n",
              "      filter: drop-shadow(0px 1px 2px rgba(0, 0, 0, 0.3));\n",
              "      fill: #FFFFFF;\n",
              "    }\n",
              "  </style>\n",
              "\n",
              "      <script>\n",
              "        const buttonEl =\n",
              "          document.querySelector('#df-09964844-27ba-4cbe-899d-2d39044697cd button.colab-df-convert');\n",
              "        buttonEl.style.display =\n",
              "          google.colab.kernel.accessAllowed ? 'block' : 'none';\n",
              "\n",
              "        async function convertToInteractive(key) {\n",
              "          const element = document.querySelector('#df-09964844-27ba-4cbe-899d-2d39044697cd');\n",
              "          const dataTable =\n",
              "            await google.colab.kernel.invokeFunction('convertToInteractive',\n",
              "                                                     [key], {});\n",
              "          if (!dataTable) return;\n",
              "\n",
              "          const docLinkHtml = 'Like what you see? Visit the ' +\n",
              "            '<a target=\"_blank\" href=https://colab.research.google.com/notebooks/data_table.ipynb>data table notebook</a>'\n",
              "            + ' to learn more about interactive tables.';\n",
              "          element.innerHTML = '';\n",
              "          dataTable['output_type'] = 'display_data';\n",
              "          await google.colab.output.renderOutput(dataTable, element);\n",
              "          const docLink = document.createElement('div');\n",
              "          docLink.innerHTML = docLinkHtml;\n",
              "          element.appendChild(docLink);\n",
              "        }\n",
              "      </script>\n",
              "    </div>\n",
              "  </div>\n",
              "  "
            ]
          },
          "metadata": {},
          "execution_count": 110
        }
      ]
    },
    {
      "cell_type": "markdown",
      "source": [
        "Обработка Current Loan Amount"
      ],
      "metadata": {
        "id": "JoNpn-xQ2oAy"
      }
    },
    {
      "cell_type": "code",
      "source": [
        "# 99999999.0 в Current Loan Amount заменяются на медианные\n",
        "median_current_loan_amount = df_train['Current Loan Amount'].median()\n",
        "df_train.loc[(df_train['Current Loan Amount'] == 99999999.0), 'Current Loan Amount'] = median_current_loan_amount"
      ],
      "metadata": {
        "id": "Z_Sb_kvmuW6z"
      },
      "execution_count": 111,
      "outputs": []
    },
    {
      "cell_type": "markdown",
      "source": [
        "Обработка Bankruptcies"
      ],
      "metadata": {
        "id": "v77n2W8S2riU"
      }
    },
    {
      "cell_type": "code",
      "source": [
        "df_train.Bankruptcies.value_counts()"
      ],
      "metadata": {
        "colab": {
          "base_uri": "https://localhost:8080/"
        },
        "id": "XJpUUs3uuagN",
        "outputId": "af696e19-e007-4e9c-9b24-e0207c202b71"
      },
      "execution_count": 113,
      "outputs": [
        {
          "output_type": "execute_result",
          "data": {
            "text/plain": [
              "0.0    6660\n",
              "1.0     786\n",
              "2.0      31\n",
              "3.0       7\n",
              "4.0       2\n",
              "Name: Bankruptcies, dtype: int64"
            ]
          },
          "metadata": {},
          "execution_count": 113
        }
      ]
    },
    {
      "cell_type": "code",
      "source": [
        "df_train['Bankruptcies'].fillna(0 , inplace=True)"
      ],
      "metadata": {
        "id": "XxwE7gG1uduv"
      },
      "execution_count": 114,
      "outputs": []
    },
    {
      "cell_type": "code",
      "source": [
        "df_train.Bankruptcies.value_counts()"
      ],
      "metadata": {
        "colab": {
          "base_uri": "https://localhost:8080/"
        },
        "id": "PJ2_xZthujdK",
        "outputId": "9211a5cf-63f3-4879-d155-5dbc10600e11"
      },
      "execution_count": 115,
      "outputs": [
        {
          "output_type": "execute_result",
          "data": {
            "text/plain": [
              "0.0    6674\n",
              "1.0     786\n",
              "2.0      31\n",
              "3.0       7\n",
              "4.0       2\n",
              "Name: Bankruptcies, dtype: int64"
            ]
          },
          "metadata": {},
          "execution_count": 115
        }
      ]
    },
    {
      "cell_type": "code",
      "source": [
        "df_train.isnull().sum()"
      ],
      "metadata": {
        "colab": {
          "base_uri": "https://localhost:8080/"
        },
        "id": "ybfvOn_sumQE",
        "outputId": "f1726670-095e-42e0-f92b-f6576d2c7e5d"
      },
      "execution_count": 116,
      "outputs": [
        {
          "output_type": "execute_result",
          "data": {
            "text/plain": [
              "Home Ownership                  0\n",
              "Annual Income                   0\n",
              "Years in current job            0\n",
              "Tax Liens                       0\n",
              "Number of Open Accounts         0\n",
              "Years of Credit History         0\n",
              "Maximum Open Credit             0\n",
              "Number of Credit Problems       0\n",
              "Months since last delinquent    0\n",
              "Bankruptcies                    0\n",
              "Purpose                         0\n",
              "Term                            0\n",
              "Current Loan Amount             0\n",
              "Current Credit Balance          0\n",
              "Monthly Debt                    0\n",
              "Credit Score                    0\n",
              "Credit Default                  0\n",
              "has_delay                       0\n",
              "unknown_income                  0\n",
              "unknown_credit_score            0\n",
              "dtype: int64"
            ]
          },
          "metadata": {},
          "execution_count": 116
        }
      ]
    },
    {
      "cell_type": "code",
      "source": [
        "for cat_colname in df_train.select_dtypes(include='object').columns:\n",
        "    print(str(cat_colname) + '\\n\\n' + str(df_train[cat_colname].value_counts()) + '\\n' + '*' * 100 + '\\n')"
      ],
      "metadata": {
        "colab": {
          "base_uri": "https://localhost:8080/"
        },
        "id": "BDwip2yZuoIH",
        "outputId": "c8082e94-7f97-4f86-e480-cef0a1c21894"
      },
      "execution_count": 117,
      "outputs": [
        {
          "output_type": "stream",
          "name": "stdout",
          "text": [
            "Home Ownership\n",
            "\n",
            "Home Mortgage    3637\n",
            "Rent             3204\n",
            "Own Home          647\n",
            "Have Mortgage      12\n",
            "Name: Home Ownership, dtype: int64\n",
            "****************************************************************************************************\n",
            "\n",
            "Years in current job\n",
            "\n",
            "10+ years    2332\n",
            "5 years       887\n",
            "2 years       705\n",
            "3 years       620\n",
            "< 1 year      563\n",
            "1 year        504\n",
            "4 years       469\n",
            "6 years       426\n",
            "7 years       396\n",
            "8 years       339\n",
            "9 years       259\n",
            "Name: Years in current job, dtype: int64\n",
            "****************************************************************************************************\n",
            "\n",
            "Purpose\n",
            "\n",
            "debt consolidation      5944\n",
            "other                    665\n",
            "home improvements        412\n",
            "business loan            129\n",
            "buy a car                 96\n",
            "medical bills             71\n",
            "major purchase            40\n",
            "take a trip               37\n",
            "buy house                 34\n",
            "small business            26\n",
            "wedding                   15\n",
            "moving                    11\n",
            "educational expenses      10\n",
            "vacation                   8\n",
            "renewable energy           2\n",
            "Name: Purpose, dtype: int64\n",
            "****************************************************************************************************\n",
            "\n",
            "Term\n",
            "\n",
            "Short Term    5556\n",
            "Long Term     1944\n",
            "Name: Term, dtype: int64\n",
            "****************************************************************************************************\n",
            "\n"
          ]
        }
      ]
    },
    {
      "cell_type": "markdown",
      "source": [
        "Обработка Term"
      ],
      "metadata": {
        "id": "aUitjj9Q22Vd"
      }
    },
    {
      "cell_type": "code",
      "source": [
        "df_train['term_binary'] = df_train['Term'].map({'Short Term':'1', 'Long Term':'0'}).astype(int)\n",
        "NEW_FEATURE_NAMES = ['has_delay','unknown_income','unknown_credit_score','term_binary']"
      ],
      "metadata": {
        "id": "H3tc2GbausUA"
      },
      "execution_count": 118,
      "outputs": []
    },
    {
      "cell_type": "code",
      "source": [
        "df_train.select_dtypes(include='object').columns[1:]"
      ],
      "metadata": {
        "colab": {
          "base_uri": "https://localhost:8080/"
        },
        "id": "s3gsWgwUu26L",
        "outputId": "89abeea4-b8ac-46e6-a5a3-6d458e8761e2"
      },
      "execution_count": 119,
      "outputs": [
        {
          "output_type": "execute_result",
          "data": {
            "text/plain": [
              "Index(['Years in current job', 'Purpose', 'Term'], dtype='object')"
            ]
          },
          "metadata": {},
          "execution_count": 119
        }
      ]
    },
    {
      "cell_type": "code",
      "source": [
        "corr_with_target = df_train[BASE_FEATURE_NAMES + \n",
        "                            NEW_FEATURE_NAMES + \n",
        "                            [TARGET_NAME]].corr().iloc[:-1, -1].sort_values(ascending=False)\n",
        "\n",
        "plt.figure(figsize=(10, 8))\n",
        "\n",
        "sns.barplot(x=corr_with_target.values, y=corr_with_target.index)\n",
        "\n",
        "plt.title('Correlation with target variable')\n",
        "plt.show()"
      ],
      "metadata": {
        "colab": {
          "base_uri": "https://localhost:8080/",
          "height": 499
        },
        "id": "LD_nxYHxu6EN",
        "outputId": "17ad5a08-9f68-400b-dab0-522c685bf51f"
      },
      "execution_count": 120,
      "outputs": [
        {
          "output_type": "display_data",
          "data": {
            "text/plain": [
              "<Figure size 720x576 with 1 Axes>"
            ],
            "image/png": "[encoded data removed]"
          },
          "metadata": {
            "needs_background": "light"
          }
        }
      ]
    },
    {
      "cell_type": "code",
      "source": [
        "def get_classification_report(y_train_true, y_train_pred, y_test_true, y_test_pred):\n",
        "    print('TRAIN\\n\\n' + classification_report(y_train_true, y_train_pred))\n",
        "    print('TEST\\n\\n' + classification_report(y_test_true, y_test_pred))\n",
        "    print('CONFUSION MATRIX\\n')\n",
        "    print(pd.crosstab(y_test_true, y_test_pred))"
      ],
      "metadata": {
        "id": "-_IomT3Uu-Ym"
      },
      "execution_count": 121,
      "outputs": []
    },
    {
      "cell_type": "markdown",
      "source": [
        "# Новый раздел"
      ],
      "metadata": {
        "id": "wYgX7Zf_0bsy"
      }
    },
    {
      "cell_type": "code",
      "source": [
        "def balance_df_by_target(df, target_name):\n",
        "\n",
        "    target_counts = df[target_name].value_counts()\n",
        "\n",
        "    major_class_name = target_counts.argmax()\n",
        "    minor_class_name = target_counts.argmin()\n",
        "\n",
        "    disbalance_coeff = int(target_counts[major_class_name] / target_counts[minor_class_name]) - 1\n",
        "\n",
        "    for i in range(disbalance_coeff):\n",
        "        sample = df[df[target_name] == minor_class_name].sample(target_counts[minor_class_name])\n",
        "        df = df.append(sample, ignore_index=True)\n",
        "\n",
        "    return df.sample(frac=1) "
      ],
      "metadata": {
        "id": "_byzTmXQvCEO"
      },
      "execution_count": 123,
      "outputs": []
    },
    {
      "cell_type": "markdown",
      "source": [
        "Подбор моделей, получение бейзлана"
      ],
      "metadata": {
        "id": "YZvyW4yI3D32"
      }
    },
    {
      "cell_type": "code",
      "source": [
        "df_train.head(10)"
      ],
      "metadata": {
        "colab": {
          "base_uri": "https://localhost:8080/",
          "height": 682
        },
        "id": "hxkTDAJOvGIF",
        "outputId": "a47bc9cb-a0d2-4364-cf20-9af59a5146f2"
      },
      "execution_count": 124,
      "outputs": [
        {
          "output_type": "execute_result",
          "data": {
            "text/plain": [
              "  Home Ownership  Annual Income Years in current job  Tax Liens  \\\n",
              "0       Own Home       482087.0              5 years        0.0   \n",
              "1       Own Home      1025487.0            10+ years        0.0   \n",
              "2  Home Mortgage       751412.0              8 years        0.0   \n",
              "3       Own Home       805068.0              6 years        0.0   \n",
              "4           Rent       776264.0              8 years        0.0   \n",
              "5           Rent      1168386.0              7 years        0.0   \n",
              "6  Home Mortgage      1511108.0            10+ years        0.0   \n",
              "7           Rent      1040060.0            10+ years        0.0   \n",
              "8  Home Mortgage      1168386.0              5 years        0.0   \n",
              "9  Home Mortgage      1168386.0               1 year        0.0   \n",
              "\n",
              "   Number of Open Accounts  Years of Credit History  Maximum Open Credit  \\\n",
              "0                     11.0                     26.3             685960.0   \n",
              "1                     15.0                     15.3            1181730.0   \n",
              "2                     11.0                     35.0            1182434.0   \n",
              "3                      8.0                     22.5             147400.0   \n",
              "4                     13.0                     13.6             385836.0   \n",
              "5                     12.0                     14.6             366784.0   \n",
              "6                      9.0                     20.3             388124.0   \n",
              "7                     13.0                     12.0             330374.0   \n",
              "8                     17.0                     15.7                  0.0   \n",
              "9                     10.0                     24.6             511302.0   \n",
              "\n",
              "   Number of Credit Problems  Months since last delinquent  Bankruptcies  ...  \\\n",
              "0                        1.0                           0.0           1.0  ...   \n",
              "1                        0.0                           0.0           0.0  ...   \n",
              "2                        0.0                           0.0           0.0  ...   \n",
              "3                        1.0                           0.0           1.0  ...   \n",
              "4                        1.0                           0.0           0.0  ...   \n",
              "5                        0.0                           0.0           0.0  ...   \n",
              "6                        0.0                          73.0           0.0  ...   \n",
              "7                        0.0                          18.0           0.0  ...   \n",
              "8                        1.0                           0.0           1.0  ...   \n",
              "9                        0.0                           6.0           0.0  ...   \n",
              "\n",
              "         Term Current Loan Amount  Current Credit Balance  Monthly Debt  \\\n",
              "0  Short Term            309573.0                 47386.0        7914.0   \n",
              "1   Long Term            264968.0                394972.0       18373.0   \n",
              "2  Short Term            309573.0                308389.0       13651.0   \n",
              "3  Short Term            121396.0                 95855.0       11338.0   \n",
              "4  Short Term            125840.0                 93309.0        7180.0   \n",
              "5   Long Term            337304.0                165680.0       18692.0   \n",
              "6  Short Term            309573.0                 51623.0        2317.0   \n",
              "7  Short Term            250888.0                 89015.0       19761.0   \n",
              "8  Short Term            129734.0                    19.0          17.0   \n",
              "9   Long Term            572880.0                205333.0       17613.0   \n",
              "\n",
              "   Credit Score  Credit Default  has_delay  unknown_income  \\\n",
              "0         749.0               0          1               0   \n",
              "1         737.0               1          1               0   \n",
              "2         742.0               0          1               0   \n",
              "3         694.0               0          1               0   \n",
              "4         719.0               0          1               0   \n",
              "5         731.0               1          1               1   \n",
              "6         745.0               0          1               0   \n",
              "7         705.0               1          1               0   \n",
              "8         731.0               0          1               1   \n",
              "9         731.0               1          1               1   \n",
              "\n",
              "   unknown_credit_score  term_binary  \n",
              "0                     0            1  \n",
              "1                     0            0  \n",
              "2                     0            1  \n",
              "3                     0            1  \n",
              "4                     0            1  \n",
              "5                     0            0  \n",
              "6                     0            1  \n",
              "7                     0            1  \n",
              "8                     0            1  \n",
              "9                     0            0  \n",
              "\n",
              "[10 rows x 21 columns]"
            ],
            "text/html": [
              "\n",
              "  <div id=\"df-5c7ce987-401a-4469-8bbc-c2ae676ff4f2\">\n",
              "    <div class=\"colab-df-container\">\n",
              "      <div>\n",
              "<style scoped>\n",
              "    .dataframe tbody tr th:only-of-type {\n",
              "        vertical-align: middle;\n",
              "    }\n",
              "\n",
              "    .dataframe tbody tr th {\n",
              "        vertical-align: top;\n",
              "    }\n",
              "\n",
              "    .dataframe thead th {\n",
              "        text-align: right;\n",
              "    }\n",
              "</style>\n",
              "<table border=\"1\" class=\"dataframe\">\n",
              "  <thead>\n",
              "    <tr style=\"text-align: right;\">\n",
              "      <th></th>\n",
              "      <th>Home Ownership</th>\n",
              "      <th>Annual Income</th>\n",
              "      <th>Years in current job</th>\n",
              "      <th>Tax Liens</th>\n",
              "      <th>Number of Open Accounts</th>\n",
              "      <th>Years of Credit History</th>\n",
              "      <th>Maximum Open Credit</th>\n",
              "      <th>Number of Credit Problems</th>\n",
              "      <th>Months since last delinquent</th>\n",
              "      <th>Bankruptcies</th>\n",
              "      <th>...</th>\n",
              "      <th>Term</th>\n",
              "      <th>Current Loan Amount</th>\n",
              "      <th>Current Credit Balance</th>\n",
              "      <th>Monthly Debt</th>\n",
              "      <th>Credit Score</th>\n",
              "      <th>Credit Default</th>\n",
              "      <th>has_delay</th>\n",
              "      <th>unknown_income</th>\n",
              "      <th>unknown_credit_score</th>\n",
              "      <th>term_binary</th>\n",
              "    </tr>\n",
              "  </thead>\n",
              "  <tbody>\n",
              "    <tr>\n",
              "      <th>0</th>\n",
              "      <td>Own Home</td>\n",
              "      <td>482087.0</td>\n",
              "      <td>5 years</td>\n",
              "      <td>0.0</td>\n",
              "      <td>11.0</td>\n",
              "      <td>26.3</td>\n",
              "      <td>685960.0</td>\n",
              "      <td>1.0</td>\n",
              "      <td>0.0</td>\n",
              "      <td>1.0</td>\n",
              "      <td>...</td>\n",
              "      <td>Short Term</td>\n",
              "      <td>309573.0</td>\n",
              "      <td>47386.0</td>\n",
              "      <td>7914.0</td>\n",
              "      <td>749.0</td>\n",
              "      <td>0</td>\n",
              "      <td>1</td>\n",
              "      <td>0</td>\n",
              "      <td>0</td>\n",
              "      <td>1</td>\n",
              "    </tr>\n",
              "    <tr>\n",
              "      <th>1</th>\n",
              "      <td>Own Home</td>\n",
              "      <td>1025487.0</td>\n",
              "      <td>10+ years</td>\n",
              "      <td>0.0</td>\n",
              "      <td>15.0</td>\n",
              "      <td>15.3</td>\n",
              "      <td>1181730.0</td>\n",
              "      <td>0.0</td>\n",
              "      <td>0.0</td>\n",
              "      <td>0.0</td>\n",
              "      <td>...</td>\n",
              "      <td>Long Term</td>\n",
              "      <td>264968.0</td>\n",
              "      <td>394972.0</td>\n",
              "      <td>18373.0</td>\n",
              "      <td>737.0</td>\n",
              "      <td>1</td>\n",
              "      <td>1</td>\n",
              "      <td>0</td>\n",
              "      <td>0</td>\n",
              "      <td>0</td>\n",
              "    </tr>\n",
              "    <tr>\n",
              "      <th>2</th>\n",
              "      <td>Home Mortgage</td>\n",
              "      <td>751412.0</td>\n",
              "      <td>8 years</td>\n",
              "      <td>0.0</td>\n",
              "      <td>11.0</td>\n",
              "      <td>35.0</td>\n",
              "      <td>1182434.0</td>\n",
              "      <td>0.0</td>\n",
              "      <td>0.0</td>\n",
              "      <td>0.0</td>\n",
              "      <td>...</td>\n",
              "      <td>Short Term</td>\n",
              "      <td>309573.0</td>\n",
              "      <td>308389.0</td>\n",
              "      <td>13651.0</td>\n",
              "      <td>742.0</td>\n",
              "      <td>0</td>\n",
              "      <td>1</td>\n",
              "      <td>0</td>\n",
              "      <td>0</td>\n",
              "      <td>1</td>\n",
              "    </tr>\n",
              "    <tr>\n",
              "      <th>3</th>\n",
              "      <td>Own Home</td>\n",
              "      <td>805068.0</td>\n",
              "      <td>6 years</td>\n",
              "      <td>0.0</td>\n",
              "      <td>8.0</td>\n",
              "      <td>22.5</td>\n",
              "      <td>147400.0</td>\n",
              "      <td>1.0</td>\n",
              "      <td>0.0</td>\n",
              "      <td>1.0</td>\n",
              "      <td>...</td>\n",
              "      <td>Short Term</td>\n",
              "      <td>121396.0</td>\n",
              "      <td>95855.0</td>\n",
              "      <td>11338.0</td>\n",
              "      <td>694.0</td>\n",
              "      <td>0</td>\n",
              "      <td>1</td>\n",
              "      <td>0</td>\n",
              "      <td>0</td>\n",
              "      <td>1</td>\n",
              "    </tr>\n",
              "    <tr>\n",
              "      <th>4</th>\n",
              "      <td>Rent</td>\n",
              "      <td>776264.0</td>\n",
              "      <td>8 years</td>\n",
              "      <td>0.0</td>\n",
              "      <td>13.0</td>\n",
              "      <td>13.6</td>\n",
              "      <td>385836.0</td>\n",
              "      <td>1.0</td>\n",
              "      <td>0.0</td>\n",
              "      <td>0.0</td>\n",
              "      <td>...</td>\n",
              "      <td>Short Term</td>\n",
              "      <td>125840.0</td>\n",
              "      <td>93309.0</td>\n",
              "      <td>7180.0</td>\n",
              "      <td>719.0</td>\n",
              "      <td>0</td>\n",
              "      <td>1</td>\n",
              "      <td>0</td>\n",
              "      <td>0</td>\n",
              "      <td>1</td>\n",
              "    </tr>\n",
              "    <tr>\n",
              "      <th>5</th>\n",
              "      <td>Rent</td>\n",
              "      <td>1168386.0</td>\n",
              "      <td>7 years</td>\n",
              "      <td>0.0</td>\n",
              "      <td>12.0</td>\n",
              "      <td>14.6</td>\n",
              "      <td>366784.0</td>\n",
              "      <td>0.0</td>\n",
              "      <td>0.0</td>\n",
              "      <td>0.0</td>\n",
              "      <td>...</td>\n",
              "      <td>Long Term</td>\n",
              "      <td>337304.0</td>\n",
              "      <td>165680.0</td>\n",
              "      <td>18692.0</td>\n",
              "      <td>731.0</td>\n",
              "      <td>1</td>\n",
              "      <td>1</td>\n",
              "      <td>1</td>\n",
              "      <td>0</td>\n",
              "      <td>0</td>\n",
              "    </tr>\n",
              "    <tr>\n",
              "      <th>6</th>\n",
              "      <td>Home Mortgage</td>\n",
              "      <td>1511108.0</td>\n",
              "      <td>10+ years</td>\n",
              "      <td>0.0</td>\n",
              "      <td>9.0</td>\n",
              "      <td>20.3</td>\n",
              "      <td>388124.0</td>\n",
              "      <td>0.0</td>\n",
              "      <td>73.0</td>\n",
              "      <td>0.0</td>\n",
              "      <td>...</td>\n",
              "      <td>Short Term</td>\n",
              "      <td>309573.0</td>\n",
              "      <td>51623.0</td>\n",
              "      <td>2317.0</td>\n",
              "      <td>745.0</td>\n",
              "      <td>0</td>\n",
              "      <td>1</td>\n",
              "      <td>0</td>\n",
              "      <td>0</td>\n",
              "      <td>1</td>\n",
              "    </tr>\n",
              "    <tr>\n",
              "      <th>7</th>\n",
              "      <td>Rent</td>\n",
              "      <td>1040060.0</td>\n",
              "      <td>10+ years</td>\n",
              "      <td>0.0</td>\n",
              "      <td>13.0</td>\n",
              "      <td>12.0</td>\n",
              "      <td>330374.0</td>\n",
              "      <td>0.0</td>\n",
              "      <td>18.0</td>\n",
              "      <td>0.0</td>\n",
              "      <td>...</td>\n",
              "      <td>Short Term</td>\n",
              "      <td>250888.0</td>\n",
              "      <td>89015.0</td>\n",
              "      <td>19761.0</td>\n",
              "      <td>705.0</td>\n",
              "      <td>1</td>\n",
              "      <td>1</td>\n",
              "      <td>0</td>\n",
              "      <td>0</td>\n",
              "      <td>1</td>\n",
              "    </tr>\n",
              "    <tr>\n",
              "      <th>8</th>\n",
              "      <td>Home Mortgage</td>\n",
              "      <td>1168386.0</td>\n",
              "      <td>5 years</td>\n",
              "      <td>0.0</td>\n",
              "      <td>17.0</td>\n",
              "      <td>15.7</td>\n",
              "      <td>0.0</td>\n",
              "      <td>1.0</td>\n",
              "      <td>0.0</td>\n",
              "      <td>1.0</td>\n",
              "      <td>...</td>\n",
              "      <td>Short Term</td>\n",
              "      <td>129734.0</td>\n",
              "      <td>19.0</td>\n",
              "      <td>17.0</td>\n",
              "      <td>731.0</td>\n",
              "      <td>0</td>\n",
              "      <td>1</td>\n",
              "      <td>1</td>\n",
              "      <td>0</td>\n",
              "      <td>1</td>\n",
              "    </tr>\n",
              "    <tr>\n",
              "      <th>9</th>\n",
              "      <td>Home Mortgage</td>\n",
              "      <td>1168386.0</td>\n",
              "      <td>1 year</td>\n",
              "      <td>0.0</td>\n",
              "      <td>10.0</td>\n",
              "      <td>24.6</td>\n",
              "      <td>511302.0</td>\n",
              "      <td>0.0</td>\n",
              "      <td>6.0</td>\n",
              "      <td>0.0</td>\n",
              "      <td>...</td>\n",
              "      <td>Long Term</td>\n",
              "      <td>572880.0</td>\n",
              "      <td>205333.0</td>\n",
              "      <td>17613.0</td>\n",
              "      <td>731.0</td>\n",
              "      <td>1</td>\n",
              "      <td>1</td>\n",
              "      <td>1</td>\n",
              "      <td>0</td>\n",
              "      <td>0</td>\n",
              "    </tr>\n",
              "  </tbody>\n",
              "</table>\n",
              "<p>10 rows × 21 columns</p>\n",
              "</div>\n",
              "      <button class=\"colab-df-convert\" onclick=\"convertToInteractive('df-5c7ce987-401a-4469-8bbc-c2ae676ff4f2')\"\n",
              "              title=\"Convert this dataframe to an interactive table.\"\n",
              "              style=\"display:none;\">\n",
              "        \n",
              "  <svg xmlns=\"http://www.w3.org/2000/svg\" height=\"24px\"viewBox=\"0 0 24 24\"\n",
              "       width=\"24px\">\n",
              "    <path d=\"M0 0h24v24H0V0z\" fill=\"none\"/>\n",
              "    <path d=\"M18.56 5.44l.94 2.06.94-2.06 2.06-.94-2.06-.94-.94-2.06-.94 2.06-2.06.94zm-11 1L8.5 8.5l.94-2.06 2.06-.94-2.06-.94L8.5 2.5l-.94 2.06-2.06.94zm10 10l.94 2.06.94-2.06 2.06-.94-2.06-.94-.94-2.06-.94 2.06-2.06.94z\"/><path d=\"M17.41 7.96l-1.37-1.37c-.4-.4-.92-.59-1.43-.59-.52 0-1.04.2-1.43.59L10.3 9.45l-7.72 7.72c-.78.78-.78 2.05 0 2.83L4 21.41c.39.39.9.59 1.41.59.51 0 1.02-.2 1.41-.59l7.78-7.78 2.81-2.81c.8-.78.8-2.07 0-2.86zM5.41 20L4 18.59l7.72-7.72 1.47 1.35L5.41 20z\"/>\n",
              "  </svg>\n",
              "      </button>\n",
              "      \n",
              "  <style>\n",
              "    .colab-df-container {\n",
              "      display:flex;\n",
              "      flex-wrap:wrap;\n",
              "      gap: 12px;\n",
              "    }\n",
              "\n",
              "    .colab-df-convert {\n",
              "      background-color: #E8F0FE;\n",
              "      border: none;\n",
              "      border-radius: 50%;\n",
              "      cursor: pointer;\n",
              "      display: none;\n",
              "      fill: #1967D2;\n",
              "      height: 32px;\n",
              "      padding: 0 0 0 0;\n",
              "      width: 32px;\n",
              "    }\n",
              "\n",
              "    .colab-df-convert:hover {\n",
              "      background-color: #E2EBFA;\n",
              "      box-shadow: 0px 1px 2px rgba(60, 64, 67, 0.3), 0px 1px 3px 1px rgba(60, 64, 67, 0.15);\n",
              "      fill: #174EA6;\n",
              "    }\n",
              "\n",
              "    [theme=dark] .colab-df-convert {\n",
              "      background-color: #3B4455;\n",
              "      fill: #D2E3FC;\n",
              "    }\n",
              "\n",
              "    [theme=dark] .colab-df-convert:hover {\n",
              "      background-color: #434B5C;\n",
              "      box-shadow: 0px 1px 3px 1px rgba(0, 0, 0, 0.15);\n",
              "      filter: drop-shadow(0px 1px 2px rgba(0, 0, 0, 0.3));\n",
              "      fill: #FFFFFF;\n",
              "    }\n",
              "  </style>\n",
              "\n",
              "      <script>\n",
              "        const buttonEl =\n",
              "          document.querySelector('#df-5c7ce987-401a-4469-8bbc-c2ae676ff4f2 button.colab-df-convert');\n",
              "        buttonEl.style.display =\n",
              "          google.colab.kernel.accessAllowed ? 'block' : 'none';\n",
              "\n",
              "        async function convertToInteractive(key) {\n",
              "          const element = document.querySelector('#df-5c7ce987-401a-4469-8bbc-c2ae676ff4f2');\n",
              "          const dataTable =\n",
              "            await google.colab.kernel.invokeFunction('convertToInteractive',\n",
              "                                                     [key], {});\n",
              "          if (!dataTable) return;\n",
              "\n",
              "          const docLinkHtml = 'Like what you see? Visit the ' +\n",
              "            '<a target=\"_blank\" href=https://colab.research.google.com/notebooks/data_table.ipynb>data table notebook</a>'\n",
              "            + ' to learn more about interactive tables.';\n",
              "          element.innerHTML = '';\n",
              "          dataTable['output_type'] = 'display_data';\n",
              "          await google.colab.output.renderOutput(dataTable, element);\n",
              "          const docLink = document.createElement('div');\n",
              "          docLink.innerHTML = docLinkHtml;\n",
              "          element.appendChild(docLink);\n",
              "        }\n",
              "      </script>\n",
              "    </div>\n",
              "  </div>\n",
              "  "
            ]
          },
          "metadata": {},
          "execution_count": 124
        }
      ]
    },
    {
      "cell_type": "code",
      "source": [
        "NEW_FEATURE_NAMES"
      ],
      "metadata": {
        "colab": {
          "base_uri": "https://localhost:8080/"
        },
        "id": "68Z6oqu-vJ8Y",
        "outputId": "0ddd3351-6d77-4932-9436-ea753c1e7c7a"
      },
      "execution_count": 125,
      "outputs": [
        {
          "output_type": "execute_result",
          "data": {
            "text/plain": [
              "['has_delay', 'unknown_income', 'unknown_credit_score', 'term_binary']"
            ]
          },
          "metadata": {},
          "execution_count": 125
        }
      ]
    },
    {
      "cell_type": "code",
      "source": [
        "SELECTED_FEATURE_NAMES = NUMB_FEATURE_NAMES + NEW_FEATURE_NAMES\n",
        "\n",
        "\n",
        "X = df_train[SELECTED_FEATURE_NAMES]\n",
        "y = df_train[TARGET_NAME]\n",
        "\n",
        "X_train, X_test, y_train, y_test = train_test_split(X, y, shuffle=True, test_size=0.30, random_state=11)"
      ],
      "metadata": {
        "id": "DY2ebkxuvNjn"
      },
      "execution_count": 127,
      "outputs": []
    },
    {
      "cell_type": "markdown",
      "source": [
        "Нормализация"
      ],
      "metadata": {
        "id": "KGftI41G358p"
      }
    },
    {
      "cell_type": "code",
      "source": [
        "scaler = StandardScaler()\n",
        "\n",
        "df_norm = df_train.copy()\n",
        "df_norm[NUMB_FEATURE_NAMES] = scaler.fit_transform(df_norm[NUMB_FEATURE_NAMES])\n",
        "\n",
        "df_train = df_norm.copy()"
      ],
      "metadata": {
        "id": "QdmoeCTPvQ0Q"
      },
      "execution_count": 128,
      "outputs": []
    },
    {
      "cell_type": "markdown",
      "source": [
        "Балансировка"
      ],
      "metadata": {
        "id": "-6qyRx-r3-C9"
      }
    },
    {
      "cell_type": "code",
      "source": [
        "df_for_balancing = pd.concat([X_train, y_train], axis=1)\n",
        "df_balanced = balance_df_by_target(df_for_balancing, TARGET_NAME)\n",
        "    \n",
        "df_balanced[TARGET_NAME].value_counts()"
      ],
      "metadata": {
        "colab": {
          "base_uri": "https://localhost:8080/"
        },
        "id": "oeJxtBEcvXam",
        "outputId": "bf82a0c8-955d-4219-c7e9-55fa99cf2424"
      },
      "execution_count": 129,
      "outputs": [
        {
          "output_type": "execute_result",
          "data": {
            "text/plain": [
              "0    3768\n",
              "1    2964\n",
              "Name: Credit Default, dtype: int64"
            ]
          },
          "metadata": {},
          "execution_count": 129
        }
      ]
    },
    {
      "cell_type": "code",
      "source": [
        "X_train = df_balanced.drop(columns=TARGET_NAME)\n",
        "y_train = df_balanced[TARGET_NAME]"
      ],
      "metadata": {
        "id": "thOGse3UvctY"
      },
      "execution_count": 130,
      "outputs": []
    },
    {
      "cell_type": "markdown",
      "source": [
        "Логистическая регрессия"
      ],
      "metadata": {
        "id": "cu0DqIGB4C3e"
      }
    },
    {
      "cell_type": "code",
      "source": [
        "model_lr = LogisticRegression()\n",
        "model_lr.fit(X_train, y_train)\n",
        "\n",
        "y_train_pred = model_lr.predict(X_train)\n",
        "y_test_pred = model_lr.predict(X_test)\n",
        "\n",
        "get_classification_report(y_train, y_train_pred, y_test, y_test_pred)"
      ],
      "metadata": {
        "colab": {
          "base_uri": "https://localhost:8080/"
        },
        "id": "exo5ak2pvgNn",
        "outputId": "d9a25551-b385-4fc2-ad1c-44c60d849ded"
      },
      "execution_count": 131,
      "outputs": [
        {
          "output_type": "stream",
          "name": "stdout",
          "text": [
            "TRAIN\n",
            "\n",
            "              precision    recall  f1-score   support\n",
            "\n",
            "           0       0.64      0.81      0.71      3768\n",
            "           1       0.63      0.42      0.51      2964\n",
            "\n",
            "    accuracy                           0.64      6732\n",
            "   macro avg       0.64      0.61      0.61      6732\n",
            "weighted avg       0.64      0.64      0.62      6732\n",
            "\n",
            "TEST\n",
            "\n",
            "              precision    recall  f1-score   support\n",
            "\n",
            "           0       0.78      0.82      0.80      1619\n",
            "           1       0.47      0.41      0.44       631\n",
            "\n",
            "    accuracy                           0.71      2250\n",
            "   macro avg       0.63      0.62      0.62      2250\n",
            "weighted avg       0.69      0.71      0.70      2250\n",
            "\n",
            "CONFUSION MATRIX\n",
            "\n",
            "col_0              0    1\n",
            "Credit Default           \n",
            "0               1328  291\n",
            "1                372  259\n"
          ]
        }
      ]
    },
    {
      "cell_type": "markdown",
      "source": [
        "K ближайших соседей"
      ],
      "metadata": {
        "id": "IwoyqFYX4Kdq"
      }
    },
    {
      "cell_type": "code",
      "source": [
        "model_knn = KNeighborsClassifier()\n",
        "model_knn.fit(X_train, y_train)\n",
        "\n",
        "y_train_pred = model_knn.predict(X_train)\n",
        "y_test_pred = model_knn.predict(X_test)\n",
        "\n",
        "get_classification_report(y_train, y_train_pred, y_test, y_test_pred)"
      ],
      "metadata": {
        "colab": {
          "base_uri": "https://localhost:8080/"
        },
        "id": "eq2v8T9ivrMM",
        "outputId": "d9a39b20-62fb-41d0-c2af-070ad2e70cd6"
      },
      "execution_count": 132,
      "outputs": [
        {
          "output_type": "stream",
          "name": "stdout",
          "text": [
            "TRAIN\n",
            "\n",
            "              precision    recall  f1-score   support\n",
            "\n",
            "           0       0.76      0.81      0.78      3768\n",
            "           1       0.74      0.67      0.70      2964\n",
            "\n",
            "    accuracy                           0.75      6732\n",
            "   macro avg       0.75      0.74      0.74      6732\n",
            "weighted avg       0.75      0.75      0.75      6732\n",
            "\n",
            "TEST\n",
            "\n",
            "              precision    recall  f1-score   support\n",
            "\n",
            "           0       0.75      0.71      0.73      1619\n",
            "           1       0.35      0.39      0.37       631\n",
            "\n",
            "    accuracy                           0.62      2250\n",
            "   macro avg       0.55      0.55      0.55      2250\n",
            "weighted avg       0.64      0.62      0.63      2250\n",
            "\n",
            "CONFUSION MATRIX\n",
            "\n",
            "col_0              0    1\n",
            "Credit Default           \n",
            "0               1157  462\n",
            "1                386  245\n"
          ]
        }
      ]
    },
    {
      "cell_type": "markdown",
      "source": [
        "Xgboost"
      ],
      "metadata": {
        "id": "3reNYCVs4SwY"
      }
    },
    {
      "cell_type": "code",
      "source": [
        "model_xgb = xgb.XGBClassifier(random_state=11)\n",
        "model_xgb.fit(X_train, y_train)\n",
        "\n",
        "y_train_pred = model_xgb.predict(X_train)\n",
        "y_test_pred = model_xgb.predict(X_test)\n",
        "\n",
        "get_classification_report(y_train, y_train_pred, y_test, y_test_pred)"
      ],
      "metadata": {
        "colab": {
          "base_uri": "https://localhost:8080/"
        },
        "id": "uOinJpSLvtHH",
        "outputId": "5f5e230c-0db4-4c66-b5d3-4dff09c21d1a"
      },
      "execution_count": 133,
      "outputs": [
        {
          "output_type": "stream",
          "name": "stdout",
          "text": [
            "TRAIN\n",
            "\n",
            "              precision    recall  f1-score   support\n",
            "\n",
            "           0       0.72      0.88      0.79      3768\n",
            "           1       0.79      0.56      0.65      2964\n",
            "\n",
            "    accuracy                           0.74      6732\n",
            "   macro avg       0.75      0.72      0.72      6732\n",
            "weighted avg       0.75      0.74      0.73      6732\n",
            "\n",
            "TEST\n",
            "\n",
            "              precision    recall  f1-score   support\n",
            "\n",
            "           0       0.80      0.86      0.83      1619\n",
            "           1       0.56      0.46      0.50       631\n",
            "\n",
            "    accuracy                           0.75      2250\n",
            "   macro avg       0.68      0.66      0.67      2250\n",
            "weighted avg       0.73      0.75      0.74      2250\n",
            "\n",
            "CONFUSION MATRIX\n",
            "\n",
            "col_0              0    1\n",
            "Credit Default           \n",
            "0               1389  230\n",
            "1                341  290\n"
          ]
        }
      ]
    },
    {
      "cell_type": "markdown",
      "source": [
        "Lgbm"
      ],
      "metadata": {
        "id": "nx0BHtT84Ynn"
      }
    },
    {
      "cell_type": "code",
      "source": [
        "model_lgbm = lgbm.LGBMClassifier(random_state=11)\n",
        "model_lgbm.fit(X_train, y_train)\n",
        "\n",
        "y_train_pred = model_lgbm.predict(X_train)\n",
        "y_test_pred = model_lgbm.predict(X_test)\n",
        "\n",
        "get_classification_report(y_train, y_train_pred, y_test, y_test_pred)"
      ],
      "metadata": {
        "colab": {
          "base_uri": "https://localhost:8080/"
        },
        "id": "8vuNjklAvxt5",
        "outputId": "a56d1cb3-dd7c-4b2c-876e-ccad493246c7"
      },
      "execution_count": 134,
      "outputs": [
        {
          "output_type": "stream",
          "name": "stdout",
          "text": [
            "TRAIN\n",
            "\n",
            "              precision    recall  f1-score   support\n",
            "\n",
            "           0       0.91      0.96      0.93      3768\n",
            "           1       0.94      0.88      0.91      2964\n",
            "\n",
            "    accuracy                           0.92      6732\n",
            "   macro avg       0.93      0.92      0.92      6732\n",
            "weighted avg       0.92      0.92      0.92      6732\n",
            "\n",
            "TEST\n",
            "\n",
            "              precision    recall  f1-score   support\n",
            "\n",
            "           0       0.80      0.84      0.82      1619\n",
            "           1       0.53      0.46      0.49       631\n",
            "\n",
            "    accuracy                           0.73      2250\n",
            "   macro avg       0.66      0.65      0.66      2250\n",
            "weighted avg       0.72      0.73      0.73      2250\n",
            "\n",
            "CONFUSION MATRIX\n",
            "\n",
            "col_0              0    1\n",
            "Credit Default           \n",
            "0               1364  255\n",
            "1                343  288\n"
          ]
        }
      ]
    },
    {
      "cell_type": "markdown",
      "source": [
        "CatBoost"
      ],
      "metadata": {
        "id": "QSGO6n3L4itM"
      }
    },
    {
      "cell_type": "code",
      "source": [
        "model_catb = catb.CatBoostClassifier(silent=True, random_state=11)\n",
        "model_catb.fit(X_train, y_train)\n",
        "\n",
        "y_train_pred = model_catb.predict(X_train)\n",
        "y_test_pred = model_catb.predict(X_test)\n",
        "\n",
        "get_classification_report(y_train, y_train_pred, y_test, y_test_pred)"
      ],
      "metadata": {
        "colab": {
          "base_uri": "https://localhost:8080/"
        },
        "id": "LOvUV4itv4VG",
        "outputId": "1bc5f448-9f8a-412e-9044-fa0919b36118"
      },
      "execution_count": 135,
      "outputs": [
        {
          "output_type": "stream",
          "name": "stdout",
          "text": [
            "TRAIN\n",
            "\n",
            "              precision    recall  f1-score   support\n",
            "\n",
            "           0       0.88      0.95      0.91      3768\n",
            "           1       0.92      0.83      0.87      2964\n",
            "\n",
            "    accuracy                           0.90      6732\n",
            "   macro avg       0.90      0.89      0.89      6732\n",
            "weighted avg       0.90      0.90      0.89      6732\n",
            "\n",
            "TEST\n",
            "\n",
            "              precision    recall  f1-score   support\n",
            "\n",
            "           0       0.80      0.85      0.82      1619\n",
            "           1       0.54      0.44      0.48       631\n",
            "\n",
            "    accuracy                           0.74      2250\n",
            "   macro avg       0.67      0.65      0.65      2250\n",
            "weighted avg       0.72      0.74      0.73      2250\n",
            "\n",
            "CONFUSION MATRIX\n",
            "\n",
            "col_0              0    1\n",
            "Credit Default           \n",
            "0               1384  235\n",
            "1                355  276\n"
          ]
        }
      ]
    },
    {
      "cell_type": "markdown",
      "source": [
        "Выбор наилучшей модели, настройка гиперпараметров"
      ],
      "metadata": {
        "id": "Awsu0wCQ4qzI"
      }
    },
    {
      "cell_type": "code",
      "source": [
        "def hyperopt_xgb_score(params):\n",
        "    clf = XGBClassifier(**params)\n",
        "    # усреднение по 3ем фолдам, для уменьшения влияния стахостичности\n",
        "    current_score = cross_val_score(clf, X, y, cv=3).mean()\n",
        "    print(current_score, params)\n",
        "    return -current_score"
      ],
      "metadata": {
        "id": "SR_HZYWq5ndF"
      },
      "execution_count": 136,
      "outputs": []
    },
    {
      "cell_type": "code",
      "source": [
        "simple_space_xgb = {\n",
        "            'n_estimators': hp.choice('n_estimators', range(100, 1000)),\n",
        "            'eta': hp.quniform('eta', 0.025, 0.5, 0.025),\n",
        "            'max_depth':  hp.choice('max_depth', np.arange(1, 14, dtype=int)),\n",
        "}\n",
        " \n",
        "best = fmin(fn=hyperopt_xgb_score, space=simple_space_xgb, algo=tpe.suggest, max_evals=10)\n",
        "print('best:')\n",
        "print(best)"
      ],
      "metadata": {
        "colab": {
          "base_uri": "https://localhost:8080/"
        },
        "id": "DmX18uv65o8r",
        "outputId": "edf9940b-d86d-4fcb-88ca-114e0206a682"
      },
      "execution_count": 137,
      "outputs": [
        {
          "output_type": "stream",
          "name": "stdout",
          "text": [
            "0.7621333333333333\n",
            "{'eta': 0.125, 'max_depth': 3, 'n_estimators': 954}\n",
            "0.7642666666666665\n",
            "{'eta': 0.42500000000000004, 'max_depth': 9, 'n_estimators': 228}\n",
            "0.7552\n",
            "{'eta': 0.35000000000000003, 'max_depth': 8, 'n_estimators': 905}\n",
            "0.7493333333333334\n",
            "{'eta': 0.15000000000000002, 'max_depth': 9, 'n_estimators': 962}\n",
            "0.7536\n",
            "{'eta': 0.275, 'max_depth': 10, 'n_estimators': 622}\n",
            "0.7549333333333333\n",
            "{'eta': 0.42500000000000004, 'max_depth': 13, 'n_estimators': 623}\n",
            "0.7602666666666665\n",
            "{'eta': 0.30000000000000004, 'max_depth': 9, 'n_estimators': 292}\n",
            "0.7513333333333333\n",
            "{'eta': 0.25, 'max_depth': 11, 'n_estimators': 897}\n",
            "0.7546666666666667\n",
            "{'eta': 0.375, 'max_depth': 13, 'n_estimators': 355}\n",
            "0.7544000000000001\n",
            "{'eta': 0.1, 'max_depth': 11, 'n_estimators': 292}\n",
            "100%|██████████| 10/10 [03:25<00:00, 20.55s/it, best loss: -0.7642666666666665]\n",
            "best:\n",
            "{'eta': 0.42500000000000004, 'max_depth': 8, 'n_estimators': 128}\n"
          ]
        }
      ]
    },
    {
      "cell_type": "code",
      "source": [
        "model_xgb = xgb.XGBClassifier(eta = 0.425, max_depth = 8, n_estimators = 128)\n",
        "model_xgb.fit(X_train, y_train)\n",
        "\n",
        "y_train_pred = model_xgb.predict(X_train)\n",
        "y_test_pred = model_xgb.predict(X_test)\n",
        "\n",
        "get_classification_report(y_train, y_train_pred, y_test, y_test_pred)"
      ],
      "metadata": {
        "colab": {
          "base_uri": "https://localhost:8080/"
        },
        "id": "swD8Bwn07pEq",
        "outputId": "e8149ba0-6956-4d11-9339-a572691f17dc"
      },
      "execution_count": 152,
      "outputs": [
        {
          "output_type": "stream",
          "name": "stdout",
          "text": [
            "TRAIN\n",
            "\n",
            "              precision    recall  f1-score   support\n",
            "\n",
            "           0       0.96      0.98      0.97      3768\n",
            "           1       0.97      0.95      0.96      2964\n",
            "\n",
            "    accuracy                           0.97      6732\n",
            "   macro avg       0.97      0.96      0.97      6732\n",
            "weighted avg       0.97      0.97      0.97      6732\n",
            "\n",
            "TEST\n",
            "\n",
            "              precision    recall  f1-score   support\n",
            "\n",
            "           0       0.80      0.87      0.83      1619\n",
            "           1       0.56      0.43      0.49       631\n",
            "\n",
            "    accuracy                           0.75      2250\n",
            "   macro avg       0.68      0.65      0.66      2250\n",
            "weighted avg       0.73      0.75      0.74      2250\n",
            "\n",
            "CONFUSION MATRIX\n",
            "\n",
            "col_0              0    1\n",
            "Credit Default           \n",
            "0               1406  213\n",
            "1                357  274\n"
          ]
        }
      ]
    },
    {
      "cell_type": "code",
      "source": [
        "model_catb = catb.CatBoostClassifier(class_weights=[1, 3.5], silent=True, random_state=11)"
      ],
      "metadata": {
        "id": "A9aQAbEqwAIm"
      },
      "execution_count": 148,
      "outputs": []
    },
    {
      "cell_type": "code",
      "source": [
        "params = {'n_estimators':[50, 100, 200, 500, 700, 1000, 1200, 1500],\n",
        "          'max_depth':[3, 5, 7]}"
      ],
      "metadata": {
        "id": "UHzQa282wSiZ"
      },
      "execution_count": 149,
      "outputs": []
    },
    {
      "cell_type": "code",
      "source": [
        "cv=KFold(n_splits=3, random_state=11, shuffle=True)"
      ],
      "metadata": {
        "id": "yXmkNdnAwVh3"
      },
      "execution_count": 150,
      "outputs": []
    },
    {
      "cell_type": "code",
      "source": [
        "%%time\n",
        "\n",
        "rs = RandomizedSearchCV(model_catb, params, scoring='f1', cv=cv, n_jobs=-1)\n",
        "rs.fit(X, y)"
      ],
      "metadata": {
        "colab": {
          "base_uri": "https://localhost:8080/"
        },
        "id": "FOevdxMJwYyJ",
        "outputId": "626da4ae-947e-4e6a-fd69-cbc38ef22c19"
      },
      "execution_count": 151,
      "outputs": [
        {
          "output_type": "stream",
          "name": "stdout",
          "text": [
            "CPU times: user 2.14 s, sys: 253 ms, total: 2.39 s\n",
            "Wall time: 54.6 s\n"
          ]
        },
        {
          "output_type": "execute_result",
          "data": {
            "text/plain": [
              "RandomizedSearchCV(cv=KFold(n_splits=3, random_state=11, shuffle=True),\n",
              "                   estimator=<catboost.core.CatBoostClassifier object at 0x7f34ae877290>,\n",
              "                   n_jobs=-1,\n",
              "                   param_distributions={'max_depth': [3, 5, 7],\n",
              "                                        'n_estimators': [50, 100, 200, 500, 700,\n",
              "                                                         1000, 1200, 1500]},\n",
              "                   scoring='f1')"
            ]
          },
          "metadata": {},
          "execution_count": 151
        }
      ]
    },
    {
      "cell_type": "code",
      "source": [
        "rs.best_params_"
      ],
      "metadata": {
        "colab": {
          "base_uri": "https://localhost:8080/"
        },
        "id": "ItI3zfIcwwhJ",
        "outputId": "6c854eea-81fb-46e1-e380-c80377717a6f"
      },
      "execution_count": 153,
      "outputs": [
        {
          "output_type": "execute_result",
          "data": {
            "text/plain": [
              "{'n_estimators': 700, 'max_depth': 5}"
            ]
          },
          "metadata": {},
          "execution_count": 153
        }
      ]
    },
    {
      "cell_type": "code",
      "source": [
        "rs.best_score_"
      ],
      "metadata": {
        "colab": {
          "base_uri": "https://localhost:8080/"
        },
        "id": "hf-Laq3vwzzR",
        "outputId": "a7b8d66f-63fa-48c3-84d0-1abfb2530084"
      },
      "execution_count": 154,
      "outputs": [
        {
          "output_type": "execute_result",
          "data": {
            "text/plain": [
              "0.8591212980987096"
            ]
          },
          "metadata": {},
          "execution_count": 154
        }
      ]
    },
    {
      "cell_type": "markdown",
      "source": [
        "Проверка качества, борьба с переобучением"
      ],
      "metadata": {
        "id": "mZwL5kcH99pj"
      }
    },
    {
      "cell_type": "code",
      "source": [
        "%%time\n",
        "\n",
        "final_model = catb.CatBoostClassifier(n_estimators=1500, max_depth=3,\n",
        "                                      silent=True, random_state=11)\n",
        "final_model.fit(X_train, y_train)\n",
        "\n",
        "y_train_pred = final_model.predict(X_train)\n",
        "y_test_pred = final_model.predict(X_test)\n",
        "\n",
        "get_classification_report(y_train, y_train_pred, y_test, y_test_pred)"
      ],
      "metadata": {
        "colab": {
          "base_uri": "https://localhost:8080/"
        },
        "id": "LcCoIfMmw3oX",
        "outputId": "113c6739-443b-4db6-8949-7e3143f5dc69"
      },
      "execution_count": 156,
      "outputs": [
        {
          "output_type": "stream",
          "name": "stdout",
          "text": [
            "TRAIN\n",
            "\n",
            "              precision    recall  f1-score   support\n",
            "\n",
            "           0       0.75      0.88      0.81      3768\n",
            "           1       0.80      0.62      0.70      2964\n",
            "\n",
            "    accuracy                           0.77      6732\n",
            "   macro avg       0.77      0.75      0.75      6732\n",
            "weighted avg       0.77      0.77      0.76      6732\n",
            "\n",
            "TEST\n",
            "\n",
            "              precision    recall  f1-score   support\n",
            "\n",
            "           0       0.81      0.84      0.82      1619\n",
            "           1       0.55      0.48      0.51       631\n",
            "\n",
            "    accuracy                           0.74      2250\n",
            "   macro avg       0.68      0.66      0.67      2250\n",
            "weighted avg       0.73      0.74      0.74      2250\n",
            "\n",
            "CONFUSION MATRIX\n",
            "\n",
            "col_0              0    1\n",
            "Credit Default           \n",
            "0               1367  252\n",
            "1                329  302\n",
            "CPU times: user 5.7 s, sys: 761 ms, total: 6.46 s\n",
            "Wall time: 3.71 s\n"
          ]
        }
      ]
    },
    {
      "cell_type": "markdown",
      "source": [
        "При расчете до подбора гиперпараметров, наилучший результат показывала модель xgboost, после - catboost"
      ],
      "metadata": {
        "id": "omqaZOOB9pY6"
      }
    },
    {
      "cell_type": "markdown",
      "source": [
        "Подготовка тестового датасета"
      ],
      "metadata": {
        "id": "GwqxtgPY-DDq"
      }
    },
    {
      "cell_type": "code",
      "source": [
        "# Добавляется признак has_delay, всем наблюдениям присваивается 1\n",
        "df_test['has_delay'] = 1\n",
        "\n",
        "# Заменяется NaN на 0 в 'Months since last delinquent'\n",
        "df_test['Months since last delinquent'].fillna(0, inplace=True)\n",
        "\n",
        "# По отсутствующей задолженности присваивается 0 в has_delay\n",
        "df_test.loc[(df_test['Months since last delinquent'] == 0), 'has_delay'] = 0\n",
        "\n",
        "# Добавляется признак unknown_income, всем наблюдениям присваивается 0\n",
        "df_test['unknown_income'] = 0\n",
        "\n",
        "# В annual_income_median записываеся медианное значение дохода\n",
        "annual_income_median = df_test['Annual Income'].median()\n",
        "\n",
        "# В unknown_income по неизвестному доходу присваивается 1 \n",
        "df_test.loc[(df_test['Annual Income'].isnull()), 'unknown_income'] = 1\n",
        "\n",
        "# Пропуски дохода заполняются медианными значениями\n",
        "df_test['Annual Income'].fillna(annual_income_median, inplace=True)\n",
        "\n",
        "# Добавляется признак unknown_credit_score, всем наблюдениям присваивается 0\n",
        "df_test['unknown_credit_score'] = 0\n",
        "NEW_FEATURE_NAMES = ['has_delay','unknown_income','unknown_credit_score']\n",
        "\n",
        "# В credit_score_median записываю медианное значение рейтинга\n",
        "credit_score_median = df_test['Credit Score'].median()\n",
        "\n",
        "# В unknown_credit_score по неизвестному рейтингу присваивается 1 \n",
        "df_test.loc[(df_test['Credit Score'].isnull()), 'unknown_credit_score'] = 1\n",
        "\n",
        "# Пропуски рейтинга заменяются медианными значениями\n",
        "df_test['Credit Score'].fillna(credit_score_median, inplace=True)\n",
        "\n",
        "# Уникальные значения поля Years in current job\n",
        "unique_years_in_current_job = df_test['Years in current job'].unique()\n",
        "\n",
        "var_experiance = unique_years_in_current_job[1:]\n",
        "\n",
        "# NaN заменяются рандомными значениями трудового стажа\n",
        "df_test['Years in current job'].fillna(random.choice(var_experiance), inplace=True)\n",
        "\n",
        "# 99999999.0 в Current Loan Amount заменяются на медианные\n",
        "median_current_loan_amount = df_test['Current Loan Amount'].median()\n",
        "df_test.loc[(df_test['Current Loan Amount'] == 99999999.0), 'Current Loan Amount'] = median_current_loan_amount\n",
        "\n",
        "df_test['term_binary'] = df_test['Term'].map({'Short Term':'1', 'Long Term':'0'}).astype(int)"
      ],
      "metadata": {
        "id": "wVHLjnfWw_9r"
      },
      "execution_count": 157,
      "outputs": []
    },
    {
      "cell_type": "code",
      "source": [
        "df_for_model = df_test[SELECTED_FEATURE_NAMES]\n",
        "df_for_model.head(10)"
      ],
      "metadata": {
        "colab": {
          "base_uri": "https://localhost:8080/",
          "height": 479
        },
        "id": "s_mbFBNHxTQH",
        "outputId": "e9fd33e9-ed5d-4347-fa46-60be9e6a2429"
      },
      "execution_count": 158,
      "outputs": [
        {
          "output_type": "execute_result",
          "data": {
            "text/plain": [
              "   Annual Income  Tax Liens  Number of Open Accounts  Years of Credit History  \\\n",
              "0      1178475.0        0.0                      9.0                     12.5   \n",
              "1       231838.0        0.0                      6.0                     32.7   \n",
              "2      1152540.0        0.0                     10.0                     13.7   \n",
              "3      1220313.0        0.0                     16.0                     17.0   \n",
              "4      2340952.0        0.0                     11.0                     23.6   \n",
              "5       922583.0        0.0                     26.0                     17.5   \n",
              "6      1233309.0        0.0                      7.0                     22.0   \n",
              "7      1215867.0        0.0                     13.0                     12.2   \n",
              "8      1178475.0        0.0                      8.0                      9.1   \n",
              "9      2140445.0        1.0                     15.0                     16.7   \n",
              "\n",
              "   Maximum Open Credit  Number of Credit Problems  \\\n",
              "0             220968.0                        0.0   \n",
              "1              55946.0                        0.0   \n",
              "2             204600.0                        0.0   \n",
              "3             456302.0                        0.0   \n",
              "4            1207272.0                        0.0   \n",
              "5             713174.0                        0.0   \n",
              "6             376420.0                        0.0   \n",
              "7             195888.0                        0.0   \n",
              "8             370524.0                        0.0   \n",
              "9             867680.0                        1.0   \n",
              "\n",
              "   Months since last delinquent  Bankruptcies  Current Loan Amount  \\\n",
              "0                          70.0           0.0             162470.0   \n",
              "1                           8.0           0.0              78298.0   \n",
              "2                           0.0           0.0             200178.0   \n",
              "3                          70.0           0.0             217382.0   \n",
              "4                           0.0           0.0             777634.0   \n",
              "5                          41.0           0.0              94028.0   \n",
              "6                          43.0           0.0             454388.0   \n",
              "7                          19.0           0.0             407726.0   \n",
              "8                           0.0           0.0             131956.0   \n",
              "9                           9.0           0.0             391336.0   \n",
              "\n",
              "   Current Credit Balance  Monthly Debt  Credit Score  has_delay  \\\n",
              "0                105906.0        6813.0         731.0          1   \n",
              "1                 46037.0        2318.0         699.0          1   \n",
              "2                146490.0       18729.0        7260.0          0   \n",
              "3                213199.0       27559.0         739.0          1   \n",
              "4                425391.0       42605.0         706.0          0   \n",
              "5                135508.0       11148.0         679.0          1   \n",
              "6                292904.0        8181.0         685.0          1   \n",
              "7                120099.0        7599.0         701.0          1   \n",
              "8                237747.0       10112.0         731.0          0   \n",
              "9                294500.0       18372.0         745.0          1   \n",
              "\n",
              "   unknown_income  unknown_credit_score  term_binary  \n",
              "0               1                     1            1  \n",
              "1               0                     0            1  \n",
              "2               0                     0            1  \n",
              "3               0                     0            1  \n",
              "4               0                     0            0  \n",
              "5               0                     0            1  \n",
              "6               0                     0            1  \n",
              "7               0                     0            1  \n",
              "8               1                     1            1  \n",
              "9               0                     0            1  "
            ],
            "text/html": [
              "\n",
              "  <div id=\"df-3f449025-c011-4af4-a6bd-116a8a532eaf\">\n",
              "    <div class=\"colab-df-container\">\n",
              "      <div>\n",
              "<style scoped>\n",
              "    .dataframe tbody tr th:only-of-type {\n",
              "        vertical-align: middle;\n",
              "    }\n",
              "\n",
              "    .dataframe tbody tr th {\n",
              "        vertical-align: top;\n",
              "    }\n",
              "\n",
              "    .dataframe thead th {\n",
              "        text-align: right;\n",
              "    }\n",
              "</style>\n",
              "<table border=\"1\" class=\"dataframe\">\n",
              "  <thead>\n",
              "    <tr style=\"text-align: right;\">\n",
              "      <th></th>\n",
              "      <th>Annual Income</th>\n",
              "      <th>Tax Liens</th>\n",
              "      <th>Number of Open Accounts</th>\n",
              "      <th>Years of Credit History</th>\n",
              "      <th>Maximum Open Credit</th>\n",
              "      <th>Number of Credit Problems</th>\n",
              "      <th>Months since last delinquent</th>\n",
              "      <th>Bankruptcies</th>\n",
              "      <th>Current Loan Amount</th>\n",
              "      <th>Current Credit Balance</th>\n",
              "      <th>Monthly Debt</th>\n",
              "      <th>Credit Score</th>\n",
              "      <th>has_delay</th>\n",
              "      <th>unknown_income</th>\n",
              "      <th>unknown_credit_score</th>\n",
              "      <th>term_binary</th>\n",
              "    </tr>\n",
              "  </thead>\n",
              "  <tbody>\n",
              "    <tr>\n",
              "      <th>0</th>\n",
              "      <td>1178475.0</td>\n",
              "      <td>0.0</td>\n",
              "      <td>9.0</td>\n",
              "      <td>12.5</td>\n",
              "      <td>220968.0</td>\n",
              "      <td>0.0</td>\n",
              "      <td>70.0</td>\n",
              "      <td>0.0</td>\n",
              "      <td>162470.0</td>\n",
              "      <td>105906.0</td>\n",
              "      <td>6813.0</td>\n",
              "      <td>731.0</td>\n",
              "      <td>1</td>\n",
              "      <td>1</td>\n",
              "      <td>1</td>\n",
              "      <td>1</td>\n",
              "    </tr>\n",
              "    <tr>\n",
              "      <th>1</th>\n",
              "      <td>231838.0</td>\n",
              "      <td>0.0</td>\n",
              "      <td>6.0</td>\n",
              "      <td>32.7</td>\n",
              "      <td>55946.0</td>\n",
              "      <td>0.0</td>\n",
              "      <td>8.0</td>\n",
              "      <td>0.0</td>\n",
              "      <td>78298.0</td>\n",
              "      <td>46037.0</td>\n",
              "      <td>2318.0</td>\n",
              "      <td>699.0</td>\n",
              "      <td>1</td>\n",
              "      <td>0</td>\n",
              "      <td>0</td>\n",
              "      <td>1</td>\n",
              "    </tr>\n",
              "    <tr>\n",
              "      <th>2</th>\n",
              "      <td>1152540.0</td>\n",
              "      <td>0.0</td>\n",
              "      <td>10.0</td>\n",
              "      <td>13.7</td>\n",
              "      <td>204600.0</td>\n",
              "      <td>0.0</td>\n",
              "      <td>0.0</td>\n",
              "      <td>0.0</td>\n",
              "      <td>200178.0</td>\n",
              "      <td>146490.0</td>\n",
              "      <td>18729.0</td>\n",
              "      <td>7260.0</td>\n",
              "      <td>0</td>\n",
              "      <td>0</td>\n",
              "      <td>0</td>\n",
              "      <td>1</td>\n",
              "    </tr>\n",
              "    <tr>\n",
              "      <th>3</th>\n",
              "      <td>1220313.0</td>\n",
              "      <td>0.0</td>\n",
              "      <td>16.0</td>\n",
              "      <td>17.0</td>\n",
              "      <td>456302.0</td>\n",
              "      <td>0.0</td>\n",
              "      <td>70.0</td>\n",
              "      <td>0.0</td>\n",
              "      <td>217382.0</td>\n",
              "      <td>213199.0</td>\n",
              "      <td>27559.0</td>\n",
              "      <td>739.0</td>\n",
              "      <td>1</td>\n",
              "      <td>0</td>\n",
              "      <td>0</td>\n",
              "      <td>1</td>\n",
              "    </tr>\n",
              "    <tr>\n",
              "      <th>4</th>\n",
              "      <td>2340952.0</td>\n",
              "      <td>0.0</td>\n",
              "      <td>11.0</td>\n",
              "      <td>23.6</td>\n",
              "      <td>1207272.0</td>\n",
              "      <td>0.0</td>\n",
              "      <td>0.0</td>\n",
              "      <td>0.0</td>\n",
              "      <td>777634.0</td>\n",
              "      <td>425391.0</td>\n",
              "      <td>42605.0</td>\n",
              "      <td>706.0</td>\n",
              "      <td>0</td>\n",
              "      <td>0</td>\n",
              "      <td>0</td>\n",
              "      <td>0</td>\n",
              "    </tr>\n",
              "    <tr>\n",
              "      <th>5</th>\n",
              "      <td>922583.0</td>\n",
              "      <td>0.0</td>\n",
              "      <td>26.0</td>\n",
              "      <td>17.5</td>\n",
              "      <td>713174.0</td>\n",
              "      <td>0.0</td>\n",
              "      <td>41.0</td>\n",
              "      <td>0.0</td>\n",
              "      <td>94028.0</td>\n",
              "      <td>135508.0</td>\n",
              "      <td>11148.0</td>\n",
              "      <td>679.0</td>\n",
              "      <td>1</td>\n",
              "      <td>0</td>\n",
              "      <td>0</td>\n",
              "      <td>1</td>\n",
              "    </tr>\n",
              "    <tr>\n",
              "      <th>6</th>\n",
              "      <td>1233309.0</td>\n",
              "      <td>0.0</td>\n",
              "      <td>7.0</td>\n",
              "      <td>22.0</td>\n",
              "      <td>376420.0</td>\n",
              "      <td>0.0</td>\n",
              "      <td>43.0</td>\n",
              "      <td>0.0</td>\n",
              "      <td>454388.0</td>\n",
              "      <td>292904.0</td>\n",
              "      <td>8181.0</td>\n",
              "      <td>685.0</td>\n",
              "      <td>1</td>\n",
              "      <td>0</td>\n",
              "      <td>0</td>\n",
              "      <td>1</td>\n",
              "    </tr>\n",
              "    <tr>\n",
              "      <th>7</th>\n",
              "      <td>1215867.0</td>\n",
              "      <td>0.0</td>\n",
              "      <td>13.0</td>\n",
              "      <td>12.2</td>\n",
              "      <td>195888.0</td>\n",
              "      <td>0.0</td>\n",
              "      <td>19.0</td>\n",
              "      <td>0.0</td>\n",
              "      <td>407726.0</td>\n",
              "      <td>120099.0</td>\n",
              "      <td>7599.0</td>\n",
              "      <td>701.0</td>\n",
              "      <td>1</td>\n",
              "      <td>0</td>\n",
              "      <td>0</td>\n",
              "      <td>1</td>\n",
              "    </tr>\n",
              "    <tr>\n",
              "      <th>8</th>\n",
              "      <td>1178475.0</td>\n",
              "      <td>0.0</td>\n",
              "      <td>8.0</td>\n",
              "      <td>9.1</td>\n",
              "      <td>370524.0</td>\n",
              "      <td>0.0</td>\n",
              "      <td>0.0</td>\n",
              "      <td>0.0</td>\n",
              "      <td>131956.0</td>\n",
              "      <td>237747.0</td>\n",
              "      <td>10112.0</td>\n",
              "      <td>731.0</td>\n",
              "      <td>0</td>\n",
              "      <td>1</td>\n",
              "      <td>1</td>\n",
              "      <td>1</td>\n",
              "    </tr>\n",
              "    <tr>\n",
              "      <th>9</th>\n",
              "      <td>2140445.0</td>\n",
              "      <td>1.0</td>\n",
              "      <td>15.0</td>\n",
              "      <td>16.7</td>\n",
              "      <td>867680.0</td>\n",
              "      <td>1.0</td>\n",
              "      <td>9.0</td>\n",
              "      <td>0.0</td>\n",
              "      <td>391336.0</td>\n",
              "      <td>294500.0</td>\n",
              "      <td>18372.0</td>\n",
              "      <td>745.0</td>\n",
              "      <td>1</td>\n",
              "      <td>0</td>\n",
              "      <td>0</td>\n",
              "      <td>1</td>\n",
              "    </tr>\n",
              "  </tbody>\n",
              "</table>\n",
              "</div>\n",
              "      <button class=\"colab-df-convert\" onclick=\"convertToInteractive('df-3f449025-c011-4af4-a6bd-116a8a532eaf')\"\n",
              "              title=\"Convert this dataframe to an interactive table.\"\n",
              "              style=\"display:none;\">\n",
              "        \n",
              "  <svg xmlns=\"http://www.w3.org/2000/svg\" height=\"24px\"viewBox=\"0 0 24 24\"\n",
              "       width=\"24px\">\n",
              "    <path d=\"M0 0h24v24H0V0z\" fill=\"none\"/>\n",
              "    <path d=\"M18.56 5.44l.94 2.06.94-2.06 2.06-.94-2.06-.94-.94-2.06-.94 2.06-2.06.94zm-11 1L8.5 8.5l.94-2.06 2.06-.94-2.06-.94L8.5 2.5l-.94 2.06-2.06.94zm10 10l.94 2.06.94-2.06 2.06-.94-2.06-.94-.94-2.06-.94 2.06-2.06.94z\"/><path d=\"M17.41 7.96l-1.37-1.37c-.4-.4-.92-.59-1.43-.59-.52 0-1.04.2-1.43.59L10.3 9.45l-7.72 7.72c-.78.78-.78 2.05 0 2.83L4 21.41c.39.39.9.59 1.41.59.51 0 1.02-.2 1.41-.59l7.78-7.78 2.81-2.81c.8-.78.8-2.07 0-2.86zM5.41 20L4 18.59l7.72-7.72 1.47 1.35L5.41 20z\"/>\n",
              "  </svg>\n",
              "      </button>\n",
              "      \n",
              "  <style>\n",
              "    .colab-df-container {\n",
              "      display:flex;\n",
              "      flex-wrap:wrap;\n",
              "      gap: 12px;\n",
              "    }\n",
              "\n",
              "    .colab-df-convert {\n",
              "      background-color: #E8F0FE;\n",
              "      border: none;\n",
              "      border-radius: 50%;\n",
              "      cursor: pointer;\n",
              "      display: none;\n",
              "      fill: #1967D2;\n",
              "      height: 32px;\n",
              "      padding: 0 0 0 0;\n",
              "      width: 32px;\n",
              "    }\n",
              "\n",
              "    .colab-df-convert:hover {\n",
              "      background-color: #E2EBFA;\n",
              "      box-shadow: 0px 1px 2px rgba(60, 64, 67, 0.3), 0px 1px 3px 1px rgba(60, 64, 67, 0.15);\n",
              "      fill: #174EA6;\n",
              "    }\n",
              "\n",
              "    [theme=dark] .colab-df-convert {\n",
              "      background-color: #3B4455;\n",
              "      fill: #D2E3FC;\n",
              "    }\n",
              "\n",
              "    [theme=dark] .colab-df-convert:hover {\n",
              "      background-color: #434B5C;\n",
              "      box-shadow: 0px 1px 3px 1px rgba(0, 0, 0, 0.15);\n",
              "      filter: drop-shadow(0px 1px 2px rgba(0, 0, 0, 0.3));\n",
              "      fill: #FFFFFF;\n",
              "    }\n",
              "  </style>\n",
              "\n",
              "      <script>\n",
              "        const buttonEl =\n",
              "          document.querySelector('#df-3f449025-c011-4af4-a6bd-116a8a532eaf button.colab-df-convert');\n",
              "        buttonEl.style.display =\n",
              "          google.colab.kernel.accessAllowed ? 'block' : 'none';\n",
              "\n",
              "        async function convertToInteractive(key) {\n",
              "          const element = document.querySelector('#df-3f449025-c011-4af4-a6bd-116a8a532eaf');\n",
              "          const dataTable =\n",
              "            await google.colab.kernel.invokeFunction('convertToInteractive',\n",
              "                                                     [key], {});\n",
              "          if (!dataTable) return;\n",
              "\n",
              "          const docLinkHtml = 'Like what you see? Visit the ' +\n",
              "            '<a target=\"_blank\" href=https://colab.research.google.com/notebooks/data_table.ipynb>data table notebook</a>'\n",
              "            + ' to learn more about interactive tables.';\n",
              "          element.innerHTML = '';\n",
              "          dataTable['output_type'] = 'display_data';\n",
              "          await google.colab.output.renderOutput(dataTable, element);\n",
              "          const docLink = document.createElement('div');\n",
              "          docLink.innerHTML = docLinkHtml;\n",
              "          element.appendChild(docLink);\n",
              "        }\n",
              "      </script>\n",
              "    </div>\n",
              "  </div>\n",
              "  "
            ]
          },
          "metadata": {},
          "execution_count": 158
        }
      ]
    },
    {
      "cell_type": "code",
      "source": [
        "y_pred_output = final_model.predict(df_for_model)"
      ],
      "metadata": {
        "id": "3hgUUnnvxWb7"
      },
      "execution_count": 159,
      "outputs": []
    },
    {
      "cell_type": "code",
      "source": [
        "y_pred_output.shape"
      ],
      "metadata": {
        "colab": {
          "base_uri": "https://localhost:8080/"
        },
        "id": "LTR-5WqXxacr",
        "outputId": "ef5d4ac2-c55b-46c2-8bdf-28422abad1e4"
      },
      "execution_count": 160,
      "outputs": [
        {
          "output_type": "execute_result",
          "data": {
            "text/plain": [
              "(2500,)"
            ]
          },
          "metadata": {},
          "execution_count": 160
        }
      ]
    },
    {
      "cell_type": "code",
      "source": [
        "result=pd.DataFrame({'Id':np.arange(2500), 'Credit Default': y_pred_output})"
      ],
      "metadata": {
        "id": "uK3EPu1qxfAr"
      },
      "execution_count": 161,
      "outputs": []
    },
    {
      "cell_type": "markdown",
      "source": [
        "Сохраняем результат"
      ],
      "metadata": {
        "id": "uaiWncLM-P5F"
      }
    },
    {
      "cell_type": "code",
      "source": [
        "RESULT_PATH='./LBiryukova_predictions.csv'\n",
        "result.to_csv(RESULT_PATH, index=False)"
      ],
      "metadata": {
        "id": "e0e7o0dRxiYa"
      },
      "execution_count": 162,
      "outputs": []
    },
    {
      "cell_type": "code",
      "source": [
        "SAMPLE = './LBiryukova_predictions.csv'\n",
        "df_sample = pd.read_csv(SAMPLE)\n",
        "\n",
        "predictions = pd.DataFrame(index = df_sample['Id'])\n",
        "\n",
        "predictions[TARGET_NAME] = y_pred_output\n",
        "predictions"
      ],
      "metadata": {
        "colab": {
          "base_uri": "https://localhost:8080/",
          "height": 455
        },
        "id": "u5O0ma08xsdD",
        "outputId": "10c89c4d-55e3-49ea-89e7-975efaba15df"
      },
      "execution_count": 163,
      "outputs": [
        {
          "output_type": "execute_result",
          "data": {
            "text/plain": [
              "      Credit Default\n",
              "Id                  \n",
              "0                  0\n",
              "1                  0\n",
              "2                  1\n",
              "3                  0\n",
              "4                  0\n",
              "...              ...\n",
              "2495               0\n",
              "2496               1\n",
              "2497               0\n",
              "2498               0\n",
              "2499               1\n",
              "\n",
              "[2500 rows x 1 columns]"
            ],
            "text/html": [
              "\n",
              "  <div id=\"df-33d81770-c37e-4c2b-9908-0723a7b75ebf\">\n",
              "    <div class=\"colab-df-container\">\n",
              "      <div>\n",
              "<style scoped>\n",
              "    .dataframe tbody tr th:only-of-type {\n",
              "        vertical-align: middle;\n",
              "    }\n",
              "\n",
              "    .dataframe tbody tr th {\n",
              "        vertical-align: top;\n",
              "    }\n",
              "\n",
              "    .dataframe thead th {\n",
              "        text-align: right;\n",
              "    }\n",
              "</style>\n",
              "<table border=\"1\" class=\"dataframe\">\n",
              "  <thead>\n",
              "    <tr style=\"text-align: right;\">\n",
              "      <th></th>\n",
              "      <th>Credit Default</th>\n",
              "    </tr>\n",
              "    <tr>\n",
              "      <th>Id</th>\n",
              "      <th></th>\n",
              "    </tr>\n",
              "  </thead>\n",
              "  <tbody>\n",
              "    <tr>\n",
              "      <th>0</th>\n",
              "      <td>0</td>\n",
              "    </tr>\n",
              "    <tr>\n",
              "      <th>1</th>\n",
              "      <td>0</td>\n",
              "    </tr>\n",
              "    <tr>\n",
              "      <th>2</th>\n",
              "      <td>1</td>\n",
              "    </tr>\n",
              "    <tr>\n",
              "      <th>3</th>\n",
              "      <td>0</td>\n",
              "    </tr>\n",
              "    <tr>\n",
              "      <th>4</th>\n",
              "      <td>0</td>\n",
              "    </tr>\n",
              "    <tr>\n",
              "      <th>...</th>\n",
              "      <td>...</td>\n",
              "    </tr>\n",
              "    <tr>\n",
              "      <th>2495</th>\n",
              "      <td>0</td>\n",
              "    </tr>\n",
              "    <tr>\n",
              "      <th>2496</th>\n",
              "      <td>1</td>\n",
              "    </tr>\n",
              "    <tr>\n",
              "      <th>2497</th>\n",
              "      <td>0</td>\n",
              "    </tr>\n",
              "    <tr>\n",
              "      <th>2498</th>\n",
              "      <td>0</td>\n",
              "    </tr>\n",
              "    <tr>\n",
              "      <th>2499</th>\n",
              "      <td>1</td>\n",
              "    </tr>\n",
              "  </tbody>\n",
              "</table>\n",
              "<p>2500 rows × 1 columns</p>\n",
              "</div>\n",
              "      <button class=\"colab-df-convert\" onclick=\"convertToInteractive('df-33d81770-c37e-4c2b-9908-0723a7b75ebf')\"\n",
              "              title=\"Convert this dataframe to an interactive table.\"\n",
              "              style=\"display:none;\">\n",
              "        \n",
              "  <svg xmlns=\"http://www.w3.org/2000/svg\" height=\"24px\"viewBox=\"0 0 24 24\"\n",
              "       width=\"24px\">\n",
              "    <path d=\"M0 0h24v24H0V0z\" fill=\"none\"/>\n",
              "    <path d=\"M18.56 5.44l.94 2.06.94-2.06 2.06-.94-2.06-.94-.94-2.06-.94 2.06-2.06.94zm-11 1L8.5 8.5l.94-2.06 2.06-.94-2.06-.94L8.5 2.5l-.94 2.06-2.06.94zm10 10l.94 2.06.94-2.06 2.06-.94-2.06-.94-.94-2.06-.94 2.06-2.06.94z\"/><path d=\"M17.41 7.96l-1.37-1.37c-.4-.4-.92-.59-1.43-.59-.52 0-1.04.2-1.43.59L10.3 9.45l-7.72 7.72c-.78.78-.78 2.05 0 2.83L4 21.41c.39.39.9.59 1.41.59.51 0 1.02-.2 1.41-.59l7.78-7.78 2.81-2.81c.8-.78.8-2.07 0-2.86zM5.41 20L4 18.59l7.72-7.72 1.47 1.35L5.41 20z\"/>\n",
              "  </svg>\n",
              "      </button>\n",
              "      \n",
              "  <style>\n",
              "    .colab-df-container {\n",
              "      display:flex;\n",
              "      flex-wrap:wrap;\n",
              "      gap: 12px;\n",
              "    }\n",
              "\n",
              "    .colab-df-convert {\n",
              "      background-color: #E8F0FE;\n",
              "      border: none;\n",
              "      border-radius: 50%;\n",
              "      cursor: pointer;\n",
              "      display: none;\n",
              "      fill: #1967D2;\n",
              "      height: 32px;\n",
              "      padding: 0 0 0 0;\n",
              "      width: 32px;\n",
              "    }\n",
              "\n",
              "    .colab-df-convert:hover {\n",
              "      background-color: #E2EBFA;\n",
              "      box-shadow: 0px 1px 2px rgba(60, 64, 67, 0.3), 0px 1px 3px 1px rgba(60, 64, 67, 0.15);\n",
              "      fill: #174EA6;\n",
              "    }\n",
              "\n",
              "    [theme=dark] .colab-df-convert {\n",
              "      background-color: #3B4455;\n",
              "      fill: #D2E3FC;\n",
              "    }\n",
              "\n",
              "    [theme=dark] .colab-df-convert:hover {\n",
              "      background-color: #434B5C;\n",
              "      box-shadow: 0px 1px 3px 1px rgba(0, 0, 0, 0.15);\n",
              "      filter: drop-shadow(0px 1px 2px rgba(0, 0, 0, 0.3));\n",
              "      fill: #FFFFFF;\n",
              "    }\n",
              "  </style>\n",
              "\n",
              "      <script>\n",
              "        const buttonEl =\n",
              "          document.querySelector('#df-33d81770-c37e-4c2b-9908-0723a7b75ebf button.colab-df-convert');\n",
              "        buttonEl.style.display =\n",
              "          google.colab.kernel.accessAllowed ? 'block' : 'none';\n",
              "\n",
              "        async function convertToInteractive(key) {\n",
              "          const element = document.querySelector('#df-33d81770-c37e-4c2b-9908-0723a7b75ebf');\n",
              "          const dataTable =\n",
              "            await google.colab.kernel.invokeFunction('convertToInteractive',\n",
              "                                                     [key], {});\n",
              "          if (!dataTable) return;\n",
              "\n",
              "          const docLinkHtml = 'Like what you see? Visit the ' +\n",
              "            '<a target=\"_blank\" href=https://colab.research.google.com/notebooks/data_table.ipynb>data table notebook</a>'\n",
              "            + ' to learn more about interactive tables.';\n",
              "          element.innerHTML = '';\n",
              "          dataTable['output_type'] = 'display_data';\n",
              "          await google.colab.output.renderOutput(dataTable, element);\n",
              "          const docLink = document.createElement('div');\n",
              "          docLink.innerHTML = docLinkHtml;\n",
              "          element.appendChild(docLink);\n",
              "        }\n",
              "      </script>\n",
              "    </div>\n",
              "  </div>\n",
              "  "
            ]
          },
          "metadata": {},
          "execution_count": 163
        }
      ]
    },
    {
      "cell_type": "code",
      "source": [],
      "metadata": {
        "id": "BY2fxNTWx3yh"
      },
      "execution_count": null,
      "outputs": []
    }
  ]
}